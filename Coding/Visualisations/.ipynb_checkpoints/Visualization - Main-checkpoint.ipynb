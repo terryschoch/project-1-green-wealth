{
 "cells": [
  {
   "cell_type": "code",
   "execution_count": 22,
   "id": "b8ae32ce",
   "metadata": {},
   "outputs": [],
   "source": [
    "#import dependancies\n",
    "import matplotlib.pyplot as plt\n",
    "import pandas as pd\n",
    "import numpy as np\n",
    "import requests\n",
    "import time\n",
    "import hvplot.pandas\n",
    "from scipy.stats import linregress\n",
    "import scipy.stats"
   ]
  },
  {
   "cell_type": "code",
   "execution_count": 23,
   "id": "fb0e2ac3",
   "metadata": {},
   "outputs": [
    {
     "data": {
      "text/html": [
       "<div>\n",
       "<style scoped>\n",
       "    .dataframe tbody tr th:only-of-type {\n",
       "        vertical-align: middle;\n",
       "    }\n",
       "\n",
       "    .dataframe tbody tr th {\n",
       "        vertical-align: top;\n",
       "    }\n",
       "\n",
       "    .dataframe thead th {\n",
       "        text-align: right;\n",
       "    }\n",
       "</style>\n",
       "<table border=\"1\" class=\"dataframe\">\n",
       "  <thead>\n",
       "    <tr style=\"text-align: right;\">\n",
       "      <th></th>\n",
       "      <th>Country</th>\n",
       "      <th>Waste</th>\n",
       "      <th>Recycled</th>\n",
       "      <th>Lat</th>\n",
       "      <th>Long</th>\n",
       "      <th>GDP (billion USD)</th>\n",
       "      <th>Real GDP 2020 (billion USD)</th>\n",
       "      <th>Real GDP Per Capita 2020</th>\n",
       "      <th>Wasted Generated Annually (million tons)</th>\n",
       "      <th>Wasted Recycled Annually (million tons)</th>\n",
       "      <th>...</th>\n",
       "      <th>Net Waste</th>\n",
       "      <th>Particulate Matter Emissions (micrograms per m3)</th>\n",
       "      <th>C02 Emissions (megatons)</th>\n",
       "      <th>Methane  Emissions (megatons)</th>\n",
       "      <th>Electricity by Unclean Energy (%)</th>\n",
       "      <th>Electricity by Clean Energy (%)</th>\n",
       "      <th>Urban Population (%)</th>\n",
       "      <th>Net Migration</th>\n",
       "      <th>Total Agreement</th>\n",
       "      <th>Development Status</th>\n",
       "    </tr>\n",
       "  </thead>\n",
       "  <tbody>\n",
       "    <tr>\n",
       "      <th>0</th>\n",
       "      <td>Algeria</td>\n",
       "      <td>12.38</td>\n",
       "      <td>0.99</td>\n",
       "      <td>28.00</td>\n",
       "      <td>3.00</td>\n",
       "      <td>169.91</td>\n",
       "      <td>468.40</td>\n",
       "      <td>10700.0</td>\n",
       "      <td>12.38</td>\n",
       "      <td>0.99</td>\n",
       "      <td>...</td>\n",
       "      <td>11.39</td>\n",
       "      <td>35.17</td>\n",
       "      <td>150.01</td>\n",
       "      <td>49.94</td>\n",
       "      <td>98.9</td>\n",
       "      <td>1.1</td>\n",
       "      <td>74.8</td>\n",
       "      <td>-0.82</td>\n",
       "      <td>-0.82</td>\n",
       "      <td>Developing</td>\n",
       "    </tr>\n",
       "    <tr>\n",
       "      <th>1</th>\n",
       "      <td>Angola</td>\n",
       "      <td>4.21</td>\n",
       "      <td>0.00</td>\n",
       "      <td>-12.30</td>\n",
       "      <td>18.30</td>\n",
       "      <td>97.26</td>\n",
       "      <td>203.71</td>\n",
       "      <td>6200.0</td>\n",
       "      <td>4.21</td>\n",
       "      <td>0.00</td>\n",
       "      <td>...</td>\n",
       "      <td>NaN</td>\n",
       "      <td>27.95</td>\n",
       "      <td>34.69</td>\n",
       "      <td>23.28</td>\n",
       "      <td>28.4</td>\n",
       "      <td>71.6</td>\n",
       "      <td>68.1</td>\n",
       "      <td>-0.19</td>\n",
       "      <td>-0.19</td>\n",
       "      <td>Developing</td>\n",
       "    </tr>\n",
       "    <tr>\n",
       "      <th>2</th>\n",
       "      <td>Botswana</td>\n",
       "      <td>0.21</td>\n",
       "      <td>0.00</td>\n",
       "      <td>-22.00</td>\n",
       "      <td>24.00</td>\n",
       "      <td>18.34</td>\n",
       "      <td>37.72</td>\n",
       "      <td>16000.0</td>\n",
       "      <td>0.21</td>\n",
       "      <td>0.00</td>\n",
       "      <td>...</td>\n",
       "      <td>NaN</td>\n",
       "      <td>21.24</td>\n",
       "      <td>6.34</td>\n",
       "      <td>5.73</td>\n",
       "      <td>99.8</td>\n",
       "      <td>0.2</td>\n",
       "      <td>72.2</td>\n",
       "      <td>2.81</td>\n",
       "      <td>2.81</td>\n",
       "      <td>Developing</td>\n",
       "    </tr>\n",
       "    <tr>\n",
       "      <th>3</th>\n",
       "      <td>Benin</td>\n",
       "      <td>0.69</td>\n",
       "      <td>0.17</td>\n",
       "      <td>9.30</td>\n",
       "      <td>2.15</td>\n",
       "      <td>10.31</td>\n",
       "      <td>40.29</td>\n",
       "      <td>3300.0</td>\n",
       "      <td>0.69</td>\n",
       "      <td>0.17</td>\n",
       "      <td>...</td>\n",
       "      <td>0.52</td>\n",
       "      <td>33.11</td>\n",
       "      <td>6.48</td>\n",
       "      <td>5.80</td>\n",
       "      <td>96.9</td>\n",
       "      <td>3.1</td>\n",
       "      <td>49.5</td>\n",
       "      <td>0.24</td>\n",
       "      <td>0.24</td>\n",
       "      <td>LDC</td>\n",
       "    </tr>\n",
       "    <tr>\n",
       "      <th>4</th>\n",
       "      <td>Burundi</td>\n",
       "      <td>1.87</td>\n",
       "      <td>0.00</td>\n",
       "      <td>-3.30</td>\n",
       "      <td>30.00</td>\n",
       "      <td>3.03</td>\n",
       "      <td>8.69</td>\n",
       "      <td>700.0</td>\n",
       "      <td>1.87</td>\n",
       "      <td>0.00</td>\n",
       "      <td>...</td>\n",
       "      <td>NaN</td>\n",
       "      <td>35.61</td>\n",
       "      <td>0.50</td>\n",
       "      <td>1.42</td>\n",
       "      <td>33.3</td>\n",
       "      <td>66.7</td>\n",
       "      <td>14.4</td>\n",
       "      <td>7.09</td>\n",
       "      <td>7.09</td>\n",
       "      <td>LDC</td>\n",
       "    </tr>\n",
       "    <tr>\n",
       "      <th>...</th>\n",
       "      <td>...</td>\n",
       "      <td>...</td>\n",
       "      <td>...</td>\n",
       "      <td>...</td>\n",
       "      <td>...</td>\n",
       "      <td>...</td>\n",
       "      <td>...</td>\n",
       "      <td>...</td>\n",
       "      <td>...</td>\n",
       "      <td>...</td>\n",
       "      <td>...</td>\n",
       "      <td>...</td>\n",
       "      <td>...</td>\n",
       "      <td>...</td>\n",
       "      <td>...</td>\n",
       "      <td>...</td>\n",
       "      <td>...</td>\n",
       "      <td>...</td>\n",
       "      <td>...</td>\n",
       "      <td>...</td>\n",
       "      <td>...</td>\n",
       "    </tr>\n",
       "    <tr>\n",
       "      <th>177</th>\n",
       "      <td>Sri Lanka</td>\n",
       "      <td>2.63</td>\n",
       "      <td>0.34</td>\n",
       "      <td>7.00</td>\n",
       "      <td>81.00</td>\n",
       "      <td>84.02</td>\n",
       "      <td>274.80</td>\n",
       "      <td>12500.0</td>\n",
       "      <td>2.63</td>\n",
       "      <td>0.34</td>\n",
       "      <td>...</td>\n",
       "      <td>2.29</td>\n",
       "      <td>15.25</td>\n",
       "      <td>23.36</td>\n",
       "      <td>10.95</td>\n",
       "      <td>64.0</td>\n",
       "      <td>36.0</td>\n",
       "      <td>19.0</td>\n",
       "      <td>-1.22</td>\n",
       "      <td>-1.22</td>\n",
       "      <td>Developing</td>\n",
       "    </tr>\n",
       "    <tr>\n",
       "      <th>178</th>\n",
       "      <td>India</td>\n",
       "      <td>168.40</td>\n",
       "      <td>8.42</td>\n",
       "      <td>20.00</td>\n",
       "      <td>77.00</td>\n",
       "      <td>2835.93</td>\n",
       "      <td>8443.36</td>\n",
       "      <td>6100.0</td>\n",
       "      <td>168.40</td>\n",
       "      <td>8.42</td>\n",
       "      <td>...</td>\n",
       "      <td>159.98</td>\n",
       "      <td>65.20</td>\n",
       "      <td>2407.67</td>\n",
       "      <td>559.11</td>\n",
       "      <td>75.5</td>\n",
       "      <td>24.5</td>\n",
       "      <td>35.9</td>\n",
       "      <td>0.16</td>\n",
       "      <td>0.16</td>\n",
       "      <td>Developing</td>\n",
       "    </tr>\n",
       "    <tr>\n",
       "      <th>179</th>\n",
       "      <td>Maldives</td>\n",
       "      <td>0.21</td>\n",
       "      <td>0.00</td>\n",
       "      <td>3.15</td>\n",
       "      <td>73.00</td>\n",
       "      <td>4.50</td>\n",
       "      <td>7.05</td>\n",
       "      <td>13000.0</td>\n",
       "      <td>0.21</td>\n",
       "      <td>0.00</td>\n",
       "      <td>...</td>\n",
       "      <td>NaN</td>\n",
       "      <td>7.63</td>\n",
       "      <td>1.44</td>\n",
       "      <td>0.14</td>\n",
       "      <td>99.6</td>\n",
       "      <td>0.4</td>\n",
       "      <td>41.5</td>\n",
       "      <td>-12.78</td>\n",
       "      <td>-12.78</td>\n",
       "      <td>Developing</td>\n",
       "    </tr>\n",
       "    <tr>\n",
       "      <th>180</th>\n",
       "      <td>Nepal</td>\n",
       "      <td>1.77</td>\n",
       "      <td>0.00</td>\n",
       "      <td>28.00</td>\n",
       "      <td>84.00</td>\n",
       "      <td>24.88</td>\n",
       "      <td>110.72</td>\n",
       "      <td>3800.0</td>\n",
       "      <td>1.77</td>\n",
       "      <td>0.00</td>\n",
       "      <td>...</td>\n",
       "      <td>NaN</td>\n",
       "      <td>94.33</td>\n",
       "      <td>9.11</td>\n",
       "      <td>41.15</td>\n",
       "      <td>0.0</td>\n",
       "      <td>100.0</td>\n",
       "      <td>21.5</td>\n",
       "      <td>-4.21</td>\n",
       "      <td>-4.21</td>\n",
       "      <td>LDC</td>\n",
       "    </tr>\n",
       "    <tr>\n",
       "      <th>181</th>\n",
       "      <td>Pakistan</td>\n",
       "      <td>30.76</td>\n",
       "      <td>2.46</td>\n",
       "      <td>30.00</td>\n",
       "      <td>70.00</td>\n",
       "      <td>253.18</td>\n",
       "      <td>1021.13</td>\n",
       "      <td>4600.0</td>\n",
       "      <td>30.76</td>\n",
       "      <td>2.46</td>\n",
       "      <td>...</td>\n",
       "      <td>28.30</td>\n",
       "      <td>55.21</td>\n",
       "      <td>201.15</td>\n",
       "      <td>142.12</td>\n",
       "      <td>55.2</td>\n",
       "      <td>44.8</td>\n",
       "      <td>37.7</td>\n",
       "      <td>-0.96</td>\n",
       "      <td>-0.96</td>\n",
       "      <td>Developing</td>\n",
       "    </tr>\n",
       "  </tbody>\n",
       "</table>\n",
       "<p>182 rows × 21 columns</p>\n",
       "</div>"
      ],
      "text/plain": [
       "       Country   Waste  Recycled    Lat   Long  GDP (billion USD)  \\\n",
       "0      Algeria   12.38      0.99  28.00   3.00             169.91   \n",
       "1       Angola    4.21      0.00 -12.30  18.30              97.26   \n",
       "2     Botswana    0.21      0.00 -22.00  24.00              18.34   \n",
       "3        Benin    0.69      0.17   9.30   2.15              10.31   \n",
       "4      Burundi    1.87      0.00  -3.30  30.00               3.03   \n",
       "..         ...     ...       ...    ...    ...                ...   \n",
       "177  Sri Lanka    2.63      0.34   7.00  81.00              84.02   \n",
       "178      India  168.40      8.42  20.00  77.00            2835.93   \n",
       "179   Maldives    0.21      0.00   3.15  73.00               4.50   \n",
       "180      Nepal    1.77      0.00  28.00  84.00              24.88   \n",
       "181   Pakistan   30.76      2.46  30.00  70.00             253.18   \n",
       "\n",
       "     Real GDP 2020 (billion USD)  Real GDP Per Capita 2020  \\\n",
       "0                         468.40                   10700.0   \n",
       "1                         203.71                    6200.0   \n",
       "2                          37.72                   16000.0   \n",
       "3                          40.29                    3300.0   \n",
       "4                           8.69                     700.0   \n",
       "..                           ...                       ...   \n",
       "177                       274.80                   12500.0   \n",
       "178                      8443.36                    6100.0   \n",
       "179                         7.05                   13000.0   \n",
       "180                       110.72                    3800.0   \n",
       "181                      1021.13                    4600.0   \n",
       "\n",
       "     Wasted Generated Annually (million tons)  \\\n",
       "0                                       12.38   \n",
       "1                                        4.21   \n",
       "2                                        0.21   \n",
       "3                                        0.69   \n",
       "4                                        1.87   \n",
       "..                                        ...   \n",
       "177                                      2.63   \n",
       "178                                    168.40   \n",
       "179                                      0.21   \n",
       "180                                      1.77   \n",
       "181                                     30.76   \n",
       "\n",
       "     Wasted Recycled Annually (million tons)  ...  Net Waste  \\\n",
       "0                                       0.99  ...      11.39   \n",
       "1                                       0.00  ...        NaN   \n",
       "2                                       0.00  ...        NaN   \n",
       "3                                       0.17  ...       0.52   \n",
       "4                                       0.00  ...        NaN   \n",
       "..                                       ...  ...        ...   \n",
       "177                                     0.34  ...       2.29   \n",
       "178                                     8.42  ...     159.98   \n",
       "179                                     0.00  ...        NaN   \n",
       "180                                     0.00  ...        NaN   \n",
       "181                                     2.46  ...      28.30   \n",
       "\n",
       "     Particulate Matter Emissions (micrograms per m3)  \\\n",
       "0                                               35.17   \n",
       "1                                               27.95   \n",
       "2                                               21.24   \n",
       "3                                               33.11   \n",
       "4                                               35.61   \n",
       "..                                                ...   \n",
       "177                                             15.25   \n",
       "178                                             65.20   \n",
       "179                                              7.63   \n",
       "180                                             94.33   \n",
       "181                                             55.21   \n",
       "\n",
       "     C02 Emissions (megatons)  Methane  Emissions (megatons)  \\\n",
       "0                      150.01                          49.94   \n",
       "1                       34.69                          23.28   \n",
       "2                        6.34                           5.73   \n",
       "3                        6.48                           5.80   \n",
       "4                        0.50                           1.42   \n",
       "..                        ...                            ...   \n",
       "177                     23.36                          10.95   \n",
       "178                   2407.67                         559.11   \n",
       "179                      1.44                           0.14   \n",
       "180                      9.11                          41.15   \n",
       "181                    201.15                         142.12   \n",
       "\n",
       "     Electricity by Unclean Energy (%)  Electricity by Clean Energy (%)  \\\n",
       "0                                 98.9                              1.1   \n",
       "1                                 28.4                             71.6   \n",
       "2                                 99.8                              0.2   \n",
       "3                                 96.9                              3.1   \n",
       "4                                 33.3                             66.7   \n",
       "..                                 ...                              ...   \n",
       "177                               64.0                             36.0   \n",
       "178                               75.5                             24.5   \n",
       "179                               99.6                              0.4   \n",
       "180                                0.0                            100.0   \n",
       "181                               55.2                             44.8   \n",
       "\n",
       "     Urban Population (%)  Net Migration  Total Agreement  Development Status  \n",
       "0                    74.8          -0.82            -0.82          Developing  \n",
       "1                    68.1          -0.19            -0.19          Developing  \n",
       "2                    72.2           2.81             2.81          Developing  \n",
       "3                    49.5           0.24             0.24                 LDC  \n",
       "4                    14.4           7.09             7.09                 LDC  \n",
       "..                    ...            ...              ...                 ...  \n",
       "177                  19.0          -1.22            -1.22          Developing  \n",
       "178                  35.9           0.16             0.16          Developing  \n",
       "179                  41.5         -12.78           -12.78          Developing  \n",
       "180                  21.5          -4.21            -4.21                 LDC  \n",
       "181                  37.7          -0.96            -0.96          Developing  \n",
       "\n",
       "[182 rows x 21 columns]"
      ]
     },
     "execution_count": 23,
     "metadata": {},
     "output_type": "execute_result"
    }
   ],
   "source": [
    "#import clean data\n",
    "country_data_df = pd.read_csv(\"../output_data/cleaned_countries_data.csv\", index_col=\"Unnamed: 0\")\n",
    "\n",
    "country_data_df"
   ]
  },
  {
   "cell_type": "code",
   "execution_count": 24,
   "id": "06cd7523",
   "metadata": {},
   "outputs": [],
   "source": [
    "#Making a linear regression function to use for analysis \n",
    "\n",
    "def linear_reg(x,y):\n",
    "\n",
    "    (slope, intercept, rvalue, pvalue, stderr) = linregress(x['Real GDP Per Capita 2020'],y)\n",
    "    regress_values = slope*x['Real GDP Per Capita 2020']+intercept\n",
    "    \n",
    "    \n",
    "    plt.scatter(x['Real GDP Per Capita 2020'], y)\n",
    "    plt.plot(x['Real GDP Per Capita 2020'],regress_values,\"r-\")\n",
    "    line_eq = \"y=\" + str(round(slope,3))+\"x +\" + str(round(intercept,2))\n",
    "    plt.annotate(line_eq,(0.5,0.84),xycoords='figure fraction', fontsize = 13, color = \"black\")\n",
    "\n",
    "    r_squared = round(rvalue**2,2)\n",
    "    plt.annotate(f'r squared-value = {r_squared}',(0.5,0.78),xycoords='figure fraction', fontsize = 13, color = \"black\")\n",
    "    plt.xlabel(\"Real GDP Per Capita 2020\")\n",
    "    print(f'the rsquare-value is {r_squared}')"
   ]
  },
  {
   "cell_type": "markdown",
   "id": "ae90cdcb",
   "metadata": {},
   "source": [
    "---\n",
    "\n",
    "## Statistical and Graphical analysis of data\n"
   ]
  },
  {
   "cell_type": "markdown",
   "id": "dc7df82e",
   "metadata": {},
   "source": [
    "GDP per Capita vs C02 Emissions:"
   ]
  },
  {
   "cell_type": "code",
   "execution_count": 25,
   "id": "c7e7a03d",
   "metadata": {},
   "outputs": [
    {
     "name": "stdout",
     "output_type": "stream",
     "text": [
      "the rsquare-value is 0.01\n"
     ]
    },
    {
     "data": {
      "image/png": "[encoded data removed]",
      "text/plain": [
       "<Figure size 432x288 with 1 Axes>"
      ]
     },
     "metadata": {
      "needs_background": "light"
     },
     "output_type": "display_data"
    }
   ],
   "source": [
    "#Run linear regression for GDP per capita vs CO2 emissions\n",
    "\n",
    "linear_reg(country_data_df,country_data_df['C02 Emissions (megatons)'])\n",
    "plt.ylabel('C02 Emissions (megatons)')\n",
    "plt.title(f'Real GDP Per Capita 2020 vs CO2 Emissions')\n",
    "\n",
    "plt.savefig(\"../output_data/Real GDP Per Capita 2020 vs CO2 Emissions.png\")\n",
    "plt.show()"
   ]
  },
  {
   "cell_type": "code",
   "execution_count": 26,
   "id": "3ee18bbb",
   "metadata": {},
   "outputs": [
    {
     "data": {
      "text/plain": [
       "(0.10135127427417959, 0.17339015129810148)"
      ]
     },
     "execution_count": 26,
     "metadata": {},
     "output_type": "execute_result"
    }
   ],
   "source": [
    "#pearson correlation data \n",
    "scipy.stats.pearsonr(country_data_df['Real GDP Per Capita 2020'],\n",
    "                     country_data_df['C02 Emissions (megatons)'])"
   ]
  },
  {
   "cell_type": "code",
   "execution_count": 46,
   "id": "78b5288f",
   "metadata": {},
   "outputs": [
    {
     "data": {},
     "metadata": {},
     "output_type": "display_data"
    },
    {
     "data": {
      "application/vnd.holoviews_exec.v0+json": "",
      "text/html": [
       "<div id='1370'>\n",
       "\n",
       "\n",
       "\n",
       "\n",
       "\n",
       "  <div class=\"bk-root\" id=\"54b3c478-9b68-4ff6-b98a-a697a2fc45ac\" data-root-id=\"1370\"></div>\n",
       "</div>\n",
       "<script type=\"application/javascript\">(function(root) {\n",
       "  function embed_document(root) {\n",
       "    var docs_json = {\"b21b4e36-5281-4237-9151-73bc0d4b0417\":{\"defs\":[{\"extends\":null,\"module\":null,\"name\":\"ReactiveHTML1\",\"overrides\":[],\"properties\":[]},{\"extends\":null,\"module\":null,\"name\":\"FlexBox1\",\"overrides\":[],\"properties\":[{\"default\":\"flex-start\",\"kind\":null,\"name\":\"align_content\"},{\"default\":\"flex-start\",\"kind\":null,\"name\":\"align_items\"},{\"default\":\"row\",\"kind\":null,\"name\":\"flex_direction\"},{\"default\":\"wrap\",\"kind\":null,\"name\":\"flex_wrap\"},{\"default\":\"flex-start\",\"kind\":null,\"name\":\"justify_content\"}]},{\"extends\":null,\"module\":null,\"name\":\"GridStack1\",\"overrides\":[],\"properties\":[{\"default\":\"warn\",\"kind\":null,\"name\":\"mode\"},{\"default\":null,\"kind\":null,\"name\":\"ncols\"},{\"default\":null,\"kind\":null,\"name\":\"nrows\"},{\"default\":true,\"kind\":null,\"name\":\"allow_resize\"},{\"default\":true,\"kind\":null,\"name\":\"allow_drag\"},{\"default\":[],\"kind\":null,\"name\":\"state\"}]},{\"extends\":null,\"module\":null,\"name\":\"click1\",\"overrides\":[],\"properties\":[{\"default\":\"\",\"kind\":null,\"name\":\"terminal_output\"},{\"default\":\"\",\"kind\":null,\"name\":\"debug_name\"},{\"default\":0,\"kind\":null,\"name\":\"clears\"}]},{\"extends\":null,\"module\":null,\"name\":\"TemplateActions1\",\"overrides\":[],\"properties\":[{\"default\":0,\"kind\":null,\"name\":\"open_modal\"},{\"default\":0,\"kind\":null,\"name\":\"close_modal\"}]},{\"extends\":null,\"module\":null,\"name\":\"MaterialTemplateActions1\",\"overrides\":[],\"properties\":[{\"default\":0,\"kind\":null,\"name\":\"open_modal\"},{\"default\":0,\"kind\":null,\"name\":\"close_modal\"}]}],\"roots\":{\"references\":[{\"attributes\":{\"end\":13012515.792717645,\"min_interval\":5,\"reset_end\":13012515.792717645,\"reset_start\":-8416486.062536085,\"start\":-8416486.062536085,\"tags\":[[[\"Lat\",\"Lat\",null]]]},\"id\":\"1377\",\"type\":\"Range1d\"},{\"attributes\":{\"dimension\":\"lon\"},\"id\":\"1416\",\"type\":\"MercatorTickFormatter\"},{\"attributes\":{},\"id\":\"1390\",\"type\":\"LinearScale\"},{\"attributes\":{\"click_policy\":\"mute\",\"coordinates\":null,\"group\":null,\"items\":[{\"id\":\"1464\"}],\"location\":[0,0]},\"id\":\"1463\",\"type\":\"Legend\"},{\"attributes\":{},\"id\":\"1428\",\"type\":\"AllLabels\"},{\"attributes\":{\"below\":[{\"id\":\"1392\"}],\"center\":[{\"id\":\"1395\"},{\"id\":\"1399\"}],\"frame_height\":450,\"frame_width\":900,\"height\":null,\"left\":[{\"id\":\"1396\"}],\"margin\":[5,5,5,5],\"match_aspect\":true,\"min_border_bottom\":10,\"min_border_left\":10,\"min_border_right\":10,\"min_border_top\":10,\"renderers\":[{\"id\":\"1444\"},{\"id\":\"1455\"}],\"right\":[{\"id\":\"1463\"}],\"sizing_mode\":\"fixed\",\"title\":{\"id\":\"1384\"},\"toolbar\":{\"id\":\"1406\"},\"width\":null,\"x_range\":{\"id\":\"1376\"},\"x_scale\":{\"id\":\"1388\"},\"y_range\":{\"id\":\"1377\"},\"y_scale\":{\"id\":\"1390\"}},\"id\":\"1383\",\"subtype\":\"Figure\",\"type\":\"Plot\"},{\"attributes\":{\"dimension\":\"lat\"},\"id\":\"1417\",\"type\":\"MercatorTicker\"},{\"attributes\":{\"axis\":{\"id\":\"1392\"},\"coordinates\":null,\"grid_line_color\":null,\"group\":null,\"ticker\":null},\"id\":\"1395\",\"type\":\"Grid\"},{\"attributes\":{\"coordinates\":null,\"data_source\":{\"id\":\"1447\"},\"glyph\":{\"id\":\"1450\"},\"group\":null,\"hover_glyph\":{\"id\":\"1453\"},\"muted_glyph\":{\"id\":\"1454\"},\"nonselection_glyph\":{\"id\":\"1451\"},\"selection_glyph\":{\"id\":\"1452\"},\"view\":{\"id\":\"1456\"}},\"id\":\"1455\",\"type\":\"GlyphRenderer\"},{\"attributes\":{},\"id\":\"1388\",\"type\":\"LinearScale\"},{\"attributes\":{\"code\":\"\\n        var projections = Bokeh.require(\\\"core/util/projections\\\");\\n        var x = special_vars.data_x\\n        var y = special_vars.data_y\\n        if (projections.wgs84_mercator.invert == null) {\\n          var coords = projections.wgs84_mercator.inverse([x, y])\\n        } else {\\n          var coords = projections.wgs84_mercator.invert(x, y)\\n        }\\n        return \\\"\\\" + (coords[0]).toFixed(4)\\n    \"},\"id\":\"1465\",\"type\":\"CustomJSHover\"},{\"attributes\":{\"dimension\":\"lon\"},\"id\":\"1415\",\"type\":\"MercatorTicker\"},{\"attributes\":{\"margin\":[5,5,5,5],\"name\":\"HSpacer03787\",\"sizing_mode\":\"stretch_width\"},\"id\":\"1371\",\"type\":\"Spacer\"},{\"attributes\":{},\"id\":\"1401\",\"type\":\"PanTool\"},{\"attributes\":{\"margin\":[5,5,5,5],\"name\":\"HSpacer03788\",\"sizing_mode\":\"stretch_width\"},\"id\":\"1521\",\"type\":\"Spacer\"},{\"attributes\":{\"axis_label\":\"x\",\"coordinates\":null,\"formatter\":{\"id\":\"1416\"},\"group\":null,\"major_label_policy\":{\"id\":\"1421\"},\"ticker\":{\"id\":\"1415\"}},\"id\":\"1392\",\"type\":\"LinearAxis\"},{\"attributes\":{},\"id\":\"1448\",\"type\":\"Selection\"},{\"attributes\":{\"attribution\":\"&copy; <a href=\\\"https://www.openstreetmap.org/copyright\\\">OpenStreetMap</a> contributors\",\"url\":\"https://c.tile.openstreetmap.org/{Z}/{X}/{Y}.png\"},\"id\":\"1441\",\"type\":\"WMTSTileSource\"},{\"attributes\":{\"fill_alpha\":{\"value\":0.2},\"fill_color\":{\"field\":\"color\",\"transform\":{\"id\":\"1446\"}},\"hatch_alpha\":{\"value\":0.2},\"hatch_color\":{\"field\":\"color\",\"transform\":{\"id\":\"1446\"}},\"line_alpha\":{\"value\":0.2},\"line_color\":{\"field\":\"color\",\"transform\":{\"id\":\"1446\"}},\"size\":{\"field\":\"size\"},\"x\":{\"field\":\"Long\"},\"y\":{\"field\":\"Lat\"}},\"id\":\"1454\",\"type\":\"Scatter\"},{\"attributes\":{\"coordinates\":null,\"group\":null,\"level\":\"glyph\",\"tile_source\":{\"id\":\"1441\"}},\"id\":\"1444\",\"type\":\"TileRenderer\"},{\"attributes\":{\"children\":[{\"id\":\"1371\"},{\"id\":\"1383\"},{\"id\":\"1521\"}],\"margin\":[0,0,0,0],\"name\":\"Row03783\",\"tags\":[\"embedded\"]},\"id\":\"1370\",\"type\":\"Row\"},{\"attributes\":{\"coordinates\":null,\"group\":null,\"text_color\":\"black\",\"text_font_size\":\"12pt\"},\"id\":\"1384\",\"type\":\"Title\"},{\"attributes\":{\"fill_color\":{\"field\":\"color\",\"transform\":{\"id\":\"1446\"}},\"hatch_color\":{\"field\":\"color\",\"transform\":{\"id\":\"1446\"}},\"line_color\":{\"field\":\"color\",\"transform\":{\"id\":\"1446\"}},\"size\":{\"field\":\"size\"},\"x\":{\"field\":\"Long\"},\"y\":{\"field\":\"Lat\"}},\"id\":\"1453\",\"type\":\"Scatter\"},{\"attributes\":{\"code\":\"\\n        var projections = Bokeh.require(\\\"core/util/projections\\\");\\n        var x = special_vars.data_x\\n        var y = special_vars.data_y\\n        if (projections.wgs84_mercator.invert == null) {\\n          var coords = projections.wgs84_mercator.inverse([x, y])\\n        } else {\\n          var coords = projections.wgs84_mercator.invert(x, y)\\n        }\\n        return \\\"\\\" + (coords[1]).toFixed(4)\\n    \"},\"id\":\"1466\",\"type\":\"CustomJSHover\"},{\"attributes\":{\"callback\":null,\"formatters\":{\"$x\":{\"id\":\"1465\"},\"$y\":{\"id\":\"1466\"}},\"renderers\":[{\"id\":\"1455\"}],\"tags\":[\"hv_created\"],\"tooltips\":[[\"Long\",\"$x{custom}\"],[\"Lat\",\"$y{custom}\"],[\"Country\",\"@{Country}\"],[\"C02 Emissions (megatons)\",\"@{C02_Emissions_left_parenthesis_megatons_right_parenthesis}\"]]},\"id\":\"1380\",\"type\":\"HoverTool\"},{\"attributes\":{\"source\":{\"id\":\"1447\"}},\"id\":\"1456\",\"type\":\"CDSView\"},{\"attributes\":{},\"id\":\"1460\",\"type\":\"UnionRenderers\"},{\"attributes\":{\"end\":21429001.855253737,\"min_interval\":5,\"reset_end\":21429001.855253737,\"reset_start\":-21429001.855253723,\"start\":-21429001.855253723,\"tags\":[[[\"Long\",\"Long\",null]]]},\"id\":\"1376\",\"type\":\"Range1d\"},{\"attributes\":{\"tools\":[{\"id\":\"1380\"},{\"id\":\"1400\"},{\"id\":\"1401\"},{\"id\":\"1402\"},{\"id\":\"1403\"},{\"id\":\"1404\"}]},\"id\":\"1406\",\"type\":\"Toolbar\"},{\"attributes\":{\"axis_label\":\"y\",\"coordinates\":null,\"formatter\":{\"id\":\"1418\"},\"group\":null,\"major_label_policy\":{\"id\":\"1428\"},\"ticker\":{\"id\":\"1417\"}},\"id\":\"1396\",\"type\":\"LinearAxis\"},{\"attributes\":{\"fill_color\":{\"field\":\"color\",\"transform\":{\"id\":\"1446\"}},\"hatch_color\":{\"field\":\"color\",\"transform\":{\"id\":\"1446\"}},\"line_color\":{\"field\":\"color\",\"transform\":{\"id\":\"1446\"}},\"size\":{\"field\":\"size\"},\"x\":{\"field\":\"Long\"},\"y\":{\"field\":\"Lat\"}},\"id\":\"1450\",\"type\":\"Scatter\"},{\"attributes\":{\"axis\":{\"id\":\"1396\"},\"coordinates\":null,\"dimension\":1,\"grid_line_color\":null,\"group\":null,\"ticker\":null},\"id\":\"1399\",\"type\":\"Grid\"},{\"attributes\":{\"label\":{\"field\":\"color\"},\"renderers\":[{\"id\":\"1455\"}]},\"id\":\"1464\",\"type\":\"LegendItem\"},{\"attributes\":{\"zoom_on_axis\":false},\"id\":\"1402\",\"type\":\"WheelZoomTool\"},{\"attributes\":{\"data\":{\"C02_Emissions_left_parenthesis_megatons_right_parenthesis\":{\"__ndarray__\":\"uB6F61HAYkC4HoXrUVhBQFyPwvUoXBlA7FG4HoXrGUAAAAAAAADgP1K4HoXrUfA/PQrXo3A9CkApXI/C9SgAQBSuR+F6lCBAmpmZmZmZyT8zMzMzMzPTP0jhehSuR+E/16NwPQrX4z9SuB6F69FtQJqZmZmZmRZAuB6F61G45j89CtejcL0tQPYoXI/C9eA/SOF6FK5HFUDsUbgehaswQAAAAAAAAAhA16NwPQpXI0ApXI/C9egxQD0K16NwPfY/FK5H4XoUBEBI4XoUrkdJQEjhehSuRw9AzczMzMzM9D9xPQrXo3AJQKRwPQrXo05AZmZmZmZmEUDsUbgehesFQMP1KFyPwh9AKVyPwvUoAEBI4XoUrhdeQK5H4XoUrvs/j8L1KFyP0j/D9Shcj8LxP4XrUbgeheM/CtejcD3KfUDNzMzMzMwlQHE9CtejcPE/zczMzMzM5D8AAAAAAAA0QAAAAAAAAAhAuB6F61G4vj9xPQrXo/A9QHE9Ctej8CdAuB6F61G4FkBcj8L1KFwLQOxRuB6F6xBAj8L1KFyP8j+PwvUoXI8UQPYoXI/C9SVAw/UoXI9+d0DD9Shcj8LFP2ZmZmZmZgBA7FG4HoXrsT8zMzMzMzPDP5qZmZmZmak/cT0K16MwQUCkcD0K16PAPwAAAAAAANA/7FG4HoXr4T97FK5H4Xr0P6RwPQrXo/w/PQrXo3A94j8K16NwPQogQEjhehSuRzxACtejcD0Kxz/D9Shcj0I5QK5H4XoUrhxASOF6FK5H0T9I4XoUrscwQNejcD0K1wdAH4XrUbieI0D2KFyPwnUgQFyPwvUoXBZA7FG4HoVrJUC4HoXrUbjOPz0K16NwPdo/j8L1KFzvRUApXI/C9SjMPxSuR+F6lCNAH4XrUbjmbkCF61G4HhCbQD0K16NwPRVAuB6F61GoUUCkcD0K1/NWQEjhehSuRzlApHA9CtejHkDXo3A9CtcjQOxRuB6FUsNAw/UoXI+agUDD9Shcj7+RQGZmZmZmYoNAw/UoXI/CMUAfhetRuF45QOF6FK5HCW9AKVyPwvUoHkDD9Shcj5JeQIXrUbgexUJAXI/C9Si8cUAAAAAAAADgPz0K16NwFWhAKVyPwvUoEkCamZmZmblOQClcj8L1OFhAmpmZmZnZNUCkcD0K1yNNQHsUrkfh2kRAhetRuB6FGkAK16NwPco/QHsUrkfh2kJA16NwPQqXMECuR+F6FI5ZQI/C9Shc70ZA9ihcj8K/hkDXo3A9CjdPQD0K16NwfTFAhetRuB7FRkB7FK5H4XoAQAAAAAAAABxA7FG4HoXrKUD2KFyPwjVAQHsUrkfh+iFAexSuR+F6FEApXI/C9SgAQDMzMzMzMxxAcT0K16Nw9T8pXI/C9VhlQMP1KFyPgkRAcT0K16OwckAfhetRuF5IQFyPwvUonEZAcT0K16NQUUDD9Shcj0IpQAAAAAAAgG5AAAAAAACgRUA9CtejcD1BQLgehetRsHdAAAAAAABIaUAK16NwPcppQI/C9Shcz0JApHA9CtejFEBxPQrXo7A/QMP1KFyPQiRASOF6FK6thEB7FK5H4UpQQFK4HoXrwWdAXI/C9SgcOUAfhetRuK5YQM3MzMzMzDhAexSuR+G6T0BxPQrXo9BZQJqZmZmZm4FAFK5H4XrUPEDsUbgehUt3QLgehetROCVAhetRuB4HgUDD9Shcj2Z+QM3MzMxMjrNAMzMzMzMraUBcj8L1KJw1QM3MzMzM5HxAFK5H4Xp0VUCkcD0K13NYQDMzMzMzk0RACtejcD0KA0DXo3A9Ctf7P6RwPQrXox1AFK5H4Xq0TEAUrkfhehQbQPYoXI/ChWRA16NwPQpXIUAAAAAAABBVQClcj8L1KPQ/XI/C9ShcN0CkcD0KV8+iQArXo3A9Cvc/uB6F61E4IkDNzMzMzCRpQA==\",\"dtype\":\"float64\",\"order\":\"little\",\"shape\":[182]},\"Country\":[\"Algeria\",\"Angola\",\"Botswana\",\"Benin\",\"Burundi\",\"Chad\",\"Congo (Brazzaville)\",\"DRC\",\"Cameroon\",\"Comoros\",\"none\",\"Cabo Verde\",\"Djibouti\",\"Egypt\",\"Equatorial Guinea\",\"Eritrea\",\"Ethiopia\",\"The Gambia\",\"Gabon\",\"Ghana\",\"Guinea\",\"Cote d'Ivoire\",\"Kenya\",\"Liberia\",\"Lesotho\",\"Libya\",\"Madagascar\",\"Malawi\",\"Mali\",\"Morocco\",\"Mauritius\",\"Mauritania\",\"Mozambique\",\"Niger\",\"Nigeria\",\"South Sudan\",\"Guinea-Bissau\",\"Rwanda\",\"Seychelles\",\"South Africa\",\"Senegal\",\"Sierra Leone\",\"Somalia\",\"Sudan\",\"Togo\",\"Sao Tome and Principe\",\"Tunisia\",\"Tanzania\",\"Uganda\",\"Burkina Faso\",\"Namibia\",\"Eswatini\",\"Zambia\",\"Zimbabwe\",\"Australia\",\"Solomon Islands\",\"Fiji\",\"Kiribati\",\"Vanuatu\",\"Nauru\",\"New Zealand\",\"Tonga\",\"Samoa\",\"Antigua and Barbuda\",\"Barbados\",\"The Bahamas\",\"Belize\",\"Costa Rica\",\"Cuba\",\"Dominica\",\"The Dominican\",\"El Salvador\",\"Grenada\",\"Guatemala\",\"Haiti\",\"Honduras\",\"Jamaica\",\"Nicaragua\",\"Panama\",\"Saint Kitts and Nevis\",\"Saint Lucia\",\"Trinidad and Tobago\",\"Saint Vincent and the Grenadines\",\"Kyrgyzstan\",\"Kazakhstan\",\"Russia\",\"Tajikistan\",\"Turkmenistan\",\"Uzbekistan\",\"Burma\",\"Brunei\",\"Cambodia\",\"China\",\"Indonesia\",\"Japan\",\"South Korea\",\"Laos\",\"Mongolia\",\"Malaysia\",\"Papua New Guinea\",\"Philippines\",\"Singapore\",\"Thailand\",\"Timor-Leste\",\"Vietnam\",\"Albania\",\"Austria\",\"Belgium\",\"Bosnia and Herzegovina\",\"Belarus\",\"Bulgaria\",\"Cyprus\",\"Denmark\",\"Ireland\",\"Estonia\",\"Czechia\",\"Finland\",\"Germany\",\"Greece\",\"Croatia\",\"Hungary\",\"Iceland\",\"Latvia\",\"Lithuania\",\"Slovakia\",\"Luxembourg\",\"Moldova\",\"Montenegro\",\"North Macedonia\",\"Malta\",\"Netherlands\",\"Norway\",\"Poland\",\"Portugal\",\"Serbia\",\"Romania\",\"Slovenia\",\"Spain\",\"Sweden\",\"Switzerland\",\"United Kingdom\",\"Ukraine\",\"none\",\"Azerbaijan\",\"Armenia\",\"Bahrain\",\"Georgia\",\"Iran\",\"Israel\",\"Iraq\",\"Jordan\",\"Kuwait\",\"Lebanon\",\"Oman\",\"Qatar\",\"Saudi Arabia\",\"Syria\",\"Turkey\",\"Yemen\",\"Canada\",\"Mexico\",\"United States\",\"Argentina\",\"Bolivia\",\"Brazil\",\"Chile\",\"Colombia\",\"Ecuador\",\"Guyana\",\"Suriname\",\"Paraguay\",\"Peru\",\"Uruguay\",\"Venezuela\",\"Afghanistan\",\"Bangladesh\",\"Bhutan\",\"Sri Lanka\",\"India\",\"Maldives\",\"Nepal\",\"Pakistan\"],\"Lat\":{\"__ndarray__\":\"d0gT5abJSEE5QxKCHQ41waJsD55SKUPBRY6GwM67L0H+8n1dFm8WwcRXvSNwxjlBd0MuSdIt+8AAAAAAAAAAAEHnNB2qayRBSfBNKyO1NMELFapt/NYnQRlwKcSyiTtBl7dvMOFRM0GkqOLfh9RHQXf0BKvhLgtBxFe9I3DGOUG9uoSAL0QrQTFeCM0bwzZBd0MuSdIt+8C9uoSAL0QrQScbSc3qzDJBvbqEgC9EK0ErQy5J0i37QKpkcYIUciVBYhfEgL4LSsE3xupPsPBFQVqIp3aDV0HBydfXdAvMNsF3LVYKOU89QQk/gOygE0lB9ygOVt5+QcFYiKd2g1dBQf/eu0XJWz/BGXApxLKJO0GPSpD5qRIxQb26hIAvRCtB2H+NaKyINEF/9ASr4S4LwVzXOqOGlR3BaTx4BA/BScFIT1SMSAU4QfeM4LvASyxBj0qQ+akSMUHEV70jcMY5Qb26hIAvRCtBK0MuSdIt+0BLX1gDwbxOQUfnNB2qayTBK0MuSdIt+0DV9ZlFFEY2QaJsD55SKUPBDR8vdj4qR8HHV70jcMY5wVqIp3aDV0HBpqji34fUR8HKuoSAL0QrwYfGdIssFz/BWByxOcP8AEEccCnEsok7wYnoDoPNZOHATHp8at0eU8FaiKd2g1dBwQ2a+Gtj4jbB5k4Nf91cPUGE/1lYt3I2QWn613h4JUVBPIrZ7nSTPUGPSpD5qRIxQSd6lUWThUJBDobusAw3OkHYiCH123BAQQqfAXJyJTdB9CA35cunNEGoT71/lk06QdiIIfXbcEBBxFe9I3DGOUH+3rtFyVs/QdX1mUUURjZB1HAhIIqzLkGHUraxNqo9QfG9GyTdMjdBJxtJzerMMkGcPL+eCok2QUl6fGrdHlNBz8FutblLV0FYZHk8bwVgQQgnpeQBA1JBSmHjkeWPUkFJenxq3R5TQaBsD55SKUNBli1EKE8+HUHV9ZlFFEY2QeSycJKUxE9BTH65g/IBIcHGks9X02dQQUVQYrIQ71BBgcZ0iywXP0EYrhhO3wxWQeBK6vU8Qw9BR+c0HaprJMHV9ZlFFEY2QR/F8lZglABBxFe9I3DGOUGBxdNpk/sswZKxNTvytjtBSXp8at0eU0Hcetsev8pWQep0V2Qy7FhBW4+7i1jZVEGSqud6VaNaQcdaNPZ4Q1RB5LJwkpTET0FxPv3pQ9VcQZKq53pVo1pBwSmzuKg0X0GgkjIzszpYQYyckoVQ1WFB+19BbhtCWUEIJ6XkAQNSQT/G64wngVVBFraihM6qVkFkYFFwllNiQXfVEKs9ml1BcT796UPVXEHs9ewc94xXQaCSMjOzOlhBFraihM6qVkFZ0IUdAtxTQZTsjWkpZ1NBbvGXndkkUEFjqTksrSdaQfQ7ntnA5WBBcdgUXb/wWUFKRZjjDy1SQVuPu4tY2VRBGK4YTt8MVkH4a+931RdWQUph45Hlj1JB9Due2cDlYEEWtqKEzqpWQSjl0BIbWltBXWc3WcvvV0Hyq/8NwAFFQXyUjG2QulJBSmHjkeWPUkFhpcN4lOFGQchPa9wEsFNBpkZGUDe2TEE+L3K5bQNMQbt9UPsDuE1BwGtakja3S0FeF8SAvgtKQR9D1RsCOk5BYsJBS6M/QkHnGKYLvzhGQTfG6k+w8EVB5LJwkpTET0EIJ6XkAQNSQcRXvSNwxjlBWGR5PG8FYEGSbpxRqRREQU0QBnQYeFFBUF9YA8G8TsF8LVYKOU89wZFKkPmpEjHBi/P36966SsFgq0lwIDMbQX/0BKvhLgvBPn65g/IBIUFgq0lwIDMbQZVunFGpFETBkUqQ+akSMcG8fVD7A7hNwb26hIAvRCtBu31Q+wO4TUHyq/8NwAFFQdjQfIXVHUhBCxWqbfzWJ0FYiKd2g1dBQRbO37TEaRVBd0gT5abJSEGK8/fr3rpKQQ==\",\"dtype\":\"float64\",\"order\":\"little\",\"shape\":[182]},\"Long\":{\"__ndarray__\":\"JYm34xliFEFY5HeumhU/QSWJt+MZYkRBtGbcPUc3DUFua6VcoHpJQT73myn/IkBBbmulXKB6OUGG2YmihTtFQSWJt+MZYjRBNnsv4ZC/UkEBmECn1tVBQSWJt+MZYkTBMcCphoxCUkFua6VcoHpJQZ9Hbuhq/DBBbh8FCbWPUEE+95sp/yJQQcaUxHpQwTvBU8ppK/ByM0ExDErady0LwZ9Hbuhq/DDBn0du6Gr8IME+95sp/yJQQfp6XIcOmC/B/BVzywIJSEH1rO5XT+A8QfRgTgRk9VNB9azuV0/gTEExDErady0bwZ9Hbuhq/DDB4TUPml5YWEElibfjGWI0wVX9wBa7uU1BMQxK2nctK0ExDErady0rQW5rpVygeklBbmulXKB6OcFua6VcoHpJQVt/jvKOhldBJYm34xliREGrygDfyMc3wQR/9z62MTPBVrEgw8/OVEFua6VcoHpJQTfatwk35f1Aq8oA38jHJ0G3TZPVJpMuQVX9wBa7uU1BMQxK2nctS0ExDErady0LwfWs7ldP4DxBIAfqB0aVSkFua6VcoHpJQW5rpVygeklBq/DQiD49bEGT/ZNwPeFwQVaeOO4UlHJBPQqE/rldckH0TWYvqbpxQdbfEFNurnFBSVRedud4ckFWnjjuFJRywc2bCAX8R3LBeGnQkoQbWsEkJ2gMtDBZwT73myn/ImDBoMS9HrjHYsEBmECn1tVhwZ9Hbuhq/GDBEAKKNRT9WcE32rcJN+VdwTygHJ0nzWLBf3AFL9ISWsH9WQqDHyRjwcOXbU1Url7BBVPGAdtSYsEqHm2UqGlgwRks9ZYxDGLBn0du6Gr8YMFNdM2M94RawYD4JLCtuVnBn5MOPFbnWcEWCb/RYfRZwUrGznNI2V9B9azuV0/gXEGG2YmihTtlQYYlKvZwJl5BbmulXKB6WUExDErady1bQVaxIMPPzmRBTGHltzxKaEEBvhBRTEtmQQG+EFFMS2ZBbmulXKB6aUEk1Vc3BU1tQe0KsmVrB2tBAb4QUUxLZkEBvhBRTEtmQX9dHVoX2GdBAAqxpDc2b0Gfkw48VudpQb2ACJ2t+GVBhtmJooU7ZUHCBzZCTKhqQT4wVKgv02ZBn0du6Gr8QEGo40lH6Ws2QTEMStp3LRtBt02T1SaTPkGrygDfyMdHQYbZiaKFO0VBk1wcmeMGTEGfR27oavwwQTEMStp3LSvB6ClcYfEURkEQAoo1FP05QegpXGHxFEZBt02T1SaTLkFi6BJmQq9CQRACijUU/TlBn0du6Gr8QEG3TZPVJpM+wYbZiaKFO0VBJYm34xliREGOQg4WOWRAQeVCpckRuSRBDRvTnTShSEGhV63qIUpAQWLoEmZCr0JBvc9gsfpfOEF7BOfWeIwiQZ9Hbuhq/DBBn0du6Gr8QEExDErady0rwQGYQKfW1UFBhtmJooU7RUGRnu1r25w4QTEMStp3LRvBbmulXKB6OUExDErady0rQTEMStp3LQvBMQxK2nctS0FJei4gXe5WQZyGh/oAFlRBkxB8RfgbU0GMHC9+ZV9VQdnl4nwpY1JBGVLFQKeBVkHtHZo6JkJNQWLoEmZCr1JBt02T1SaTTkEPydG240xTQYYlKvZwJk5B3PJpvn40WEGLlA/9ibhVQZMQfEX4G1NBPvebKf8iUEFV/cAWu7lNQSWJt+MZYlRBDfUC9L4rZMG3AfOBO6hlwT0dbNN0mGTBMQxK2nctW8FiNLO5LZpbwXqil/8SW1fBhiUq9nAmXsG3TZPVJpNewSoebZSoaWDBPkM8feoNWcGrygDfyMdXwQ0b0500oVjBPvebKf8iYMGrygDfyMdXwZNcHJnjBlzBYjSzuS2aW0GTEHxF+BtjQWajmMBGLGNBt9si2MUyYUFWi1AZWllgQeh1/LTc/15BAZhAp9bVYUFV/cAWu7ldQQ==\",\"dtype\":\"float64\",\"order\":\"little\",\"shape\":[182]},\"color\":[\"Algeria\",\"Angola\",\"Botswana\",\"Benin\",\"Burundi\",\"Chad\",\"Congo (Brazzaville)\",\"DRC\",\"Cameroon\",\"Comoros\",\"none\",\"Cabo Verde\",\"Djibouti\",\"Egypt\",\"Equatorial Guinea\",\"Eritrea\",\"Ethiopia\",\"The Gambia\",\"Gabon\",\"Ghana\",\"Guinea\",\"Cote d'Ivoire\",\"Kenya\",\"Liberia\",\"Lesotho\",\"Libya\",\"Madagascar\",\"Malawi\",\"Mali\",\"Morocco\",\"Mauritius\",\"Mauritania\",\"Mozambique\",\"Niger\",\"Nigeria\",\"South Sudan\",\"Guinea-Bissau\",\"Rwanda\",\"Seychelles\",\"South Africa\",\"Senegal\",\"Sierra Leone\",\"Somalia\",\"Sudan\",\"Togo\",\"Sao Tome and Principe\",\"Tunisia\",\"Tanzania\",\"Uganda\",\"Burkina Faso\",\"Namibia\",\"Eswatini\",\"Zambia\",\"Zimbabwe\",\"Australia\",\"Solomon Islands\",\"Fiji\",\"Kiribati\",\"Vanuatu\",\"Nauru\",\"New Zealand\",\"Tonga\",\"Samoa\",\"Antigua and Barbuda\",\"Barbados\",\"The Bahamas\",\"Belize\",\"Costa Rica\",\"Cuba\",\"Dominica\",\"The Dominican\",\"El Salvador\",\"Grenada\",\"Guatemala\",\"Haiti\",\"Honduras\",\"Jamaica\",\"Nicaragua\",\"Panama\",\"Saint Kitts and Nevis\",\"Saint Lucia\",\"Trinidad and Tobago\",\"Saint Vincent and the Grenadines\",\"Kyrgyzstan\",\"Kazakhstan\",\"Russia\",\"Tajikistan\",\"Turkmenistan\",\"Uzbekistan\",\"Burma\",\"Brunei\",\"Cambodia\",\"China\",\"Indonesia\",\"Japan\",\"South Korea\",\"Laos\",\"Mongolia\",\"Malaysia\",\"Papua New Guinea\",\"Philippines\",\"Singapore\",\"Thailand\",\"Timor-Leste\",\"Vietnam\",\"Albania\",\"Austria\",\"Belgium\",\"Bosnia and Herzegovina\",\"Belarus\",\"Bulgaria\",\"Cyprus\",\"Denmark\",\"Ireland\",\"Estonia\",\"Czechia\",\"Finland\",\"Germany\",\"Greece\",\"Croatia\",\"Hungary\",\"Iceland\",\"Latvia\",\"Lithuania\",\"Slovakia\",\"Luxembourg\",\"Moldova\",\"Montenegro\",\"North Macedonia\",\"Malta\",\"Netherlands\",\"Norway\",\"Poland\",\"Portugal\",\"Serbia\",\"Romania\",\"Slovenia\",\"Spain\",\"Sweden\",\"Switzerland\",\"United Kingdom\",\"Ukraine\",\"none\",\"Azerbaijan\",\"Armenia\",\"Bahrain\",\"Georgia\",\"Iran\",\"Israel\",\"Iraq\",\"Jordan\",\"Kuwait\",\"Lebanon\",\"Oman\",\"Qatar\",\"Saudi Arabia\",\"Syria\",\"Turkey\",\"Yemen\",\"Canada\",\"Mexico\",\"United States\",\"Argentina\",\"Bolivia\",\"Brazil\",\"Chile\",\"Colombia\",\"Ecuador\",\"Guyana\",\"Suriname\",\"Paraguay\",\"Peru\",\"Uruguay\",\"Venezuela\",\"Afghanistan\",\"Bangladesh\",\"Bhutan\",\"Sri Lanka\",\"India\",\"Maldives\",\"Nepal\",\"Pakistan\"],\"size\":{\"__ndarray__\":\"SRRbG+d+KEDKLGZtLY8XQECe23O7JARAa08/XFtdBEDNO39mnqDmP2KwWdnBKPA/nybD5yv6/D//VBOCgr32P7Kum+OsCAdA2e2/xSWf3D9yhPh08YbhPziOpLHdg+c/dXLXImMy6T+iePzZCeQuQFVlblkKBANAb15Wr7P26j/vswp1bNkOQCFjkrPdS+c/KBjl1bxzAkBrL71p4VQQQKpMWOh6tvs/IPvzqJbgCEBxKufblu0QQFcEI98c3fI/ju0fz0hZ+T8aJ0l4NXEcQAX1tdBQo/8/Iw8olig+8j82fuPdNoj8P1dpYq8HUB9AuwMvUnGvAEDd9YIfFnz6P26UNwXbigZA/1QTgoK99j++uBatUfElQH5de2VyC/U/XK4g6oY74T+AxfBdZ9vwP+0ppRIo/ug/hSOUngPVNUAtJ+6XgGkKQCyU2XtZtPA/gcQC/5nM6T+o9Jebd+MRQKpMWOh6tvs/IgqthpUr1j+iqNtHEeMVQDyk10CbrQtAutRsg/IQA0AFbij51Jb9P75YUzsddABAXK4g6oY78T96RQYcIyMCQL0yMxJFggpAuqEWF25jM0Cl4X/XS2PaP5LNmlqU6PY/Vfrbh8zu0D9Icj/0fsnYP9ntv8Uln8w/zeTvNSt0F0CQ4U3QVRPXPwAAAAAAAOA/O8y52lTy5z8KY/9RGBryPx7JHRMTaPU/SQzfCdMo6D92+pzh2qcGQDMOshaGRRVAjxT/eiQn2z9yuVcdjhoUQGhZNWnmawVAmscBJbCg4D/jpIbopmIQQPh/2dPKnvs/Ql7GOYYOCUDXXLAvTPMGQHALcJkf6gJA7TahDlAuCkBKaNvsfFrfP5pl5npwfeQ/q2TQ5Wd+GkDYvVP1xgTeP+736XL7BwlABLdZriFyL0CzFoahD89EQOr4NsNLbwJA/H9GzO7OIEC6QgWY2ykjQHGrHZiXHBRAEh9ybjAkBkB1ctciYzIJQCI610eu3VhAcDRDO/+7N0AEHYTU+tlAQNU0oP3j5zhAgMXwXWfbEECGnSC0vyUUQHsKB2qygy9A3HV3lp33BUCCeak18R0mQAi6QocJghhAUpH7il3YMEDNO39mnqDmP9XqAwTZwitApqEj5roLAUD9IA0jJFsfQKyqu1LBryNAvE2fe5WyEkDTieFjWokeQCRoiOxT1RlA7yuo+FmZBEAfOGSXlI0WQJfN6Cc6kBhAVW7jGtZKEEDKQg8hhTgkQFeaWgRJFxtArTgGhR37OkBnfblm5ZofQPZIx6l5uhBAI94UCkv+GkATpHev3fb2P+r40ql/KgVAzczMzMzMDECdrKJGgsYWQMJBnfGV/AdACmP/URgaAkD/VBOCgr32PzRnfOfQPQVAMhrCeXaF8j9S7N/i9SIqQL7HSPNlnhlAQNrQLPNKMUBXIdwi9ewbQChzjcP45RpAFsEOLP+kIEDklYL8U24MQGh0TheyPS9A3jTa/k5OGkDKShv/5HwXQAK21GvrdzNASaiKjWNxLEBqEd+xSbosQIe2wQW4iBhABgVHZiksAkCWYogSfoQWQNAssxFOdglA7yqPAUa5OUAjdSg7RSUgQB5JmhWMkitAY65Ea0ALFEBb+UVVYt8jQMbzkpd66xNAfNcA5l3dH0BWpCJlyVIkQCQ6dLOyvDdA0aF32jh6FUBwjD09U04zQFK/oQnzDgpAs7AK68ZXN0Bnc8sgAQ42QCxx92NVsFFAkhvVgSthLECNWHk0OZgSQNf53DNMgDVADWuOAh+HIkAhIQ8qoMcjQJWERUzIqBlAo/rTQwCv+D9FoZi9/hr1P7WhoePsxgVAyyF5BMlOHkAUQG6svNAEQHCIcH9loClAxNoX306OB0C/jysJiVsiQCxZC6S/9fE/vT6UMzdVE0BtsvautIhIQDMzMzMzM/M/65FEwW4lCEAgoiiSj10sQA==\",\"dtype\":\"float64\",\"order\":\"little\",\"shape\":[182]}},\"selected\":{\"id\":\"1448\"},\"selection_policy\":{\"id\":\"1460\"}},\"id\":\"1447\",\"type\":\"ColumnDataSource\"},{\"attributes\":{},\"id\":\"1400\",\"type\":\"SaveTool\"},{\"attributes\":{\"match_aspect\":true,\"overlay\":{\"id\":\"1405\"}},\"id\":\"1403\",\"type\":\"BoxZoomTool\"},{\"attributes\":{},\"id\":\"1421\",\"type\":\"AllLabels\"},{\"attributes\":{},\"id\":\"1404\",\"type\":\"ResetTool\"},{\"attributes\":{\"factors\":[\"Algeria\",\"Angola\",\"Botswana\",\"Benin\",\"Burundi\",\"Chad\",\"Congo (Brazzaville)\",\"DRC\",\"Cameroon\",\"Comoros\",\"none\",\"Cabo Verde\",\"Djibouti\",\"Egypt\",\"Equatorial Guinea\",\"Eritrea\",\"Ethiopia\",\"The Gambia\",\"Gabon\",\"Ghana\",\"Guinea\",\"Cote d'Ivoire\",\"Kenya\",\"Liberia\",\"Lesotho\",\"Libya\",\"Madagascar\",\"Malawi\",\"Mali\",\"Morocco\",\"Mauritius\",\"Mauritania\",\"Mozambique\",\"Niger\",\"Nigeria\",\"South Sudan\",\"Guinea-Bissau\",\"Rwanda\",\"Seychelles\",\"South Africa\",\"Senegal\",\"Sierra Leone\",\"Somalia\",\"Sudan\",\"Togo\",\"Sao Tome and Principe\",\"Tunisia\",\"Tanzania\",\"Uganda\",\"Burkina Faso\",\"Namibia\",\"Eswatini\",\"Zambia\",\"Zimbabwe\",\"Australia\",\"Solomon Islands\",\"Fiji\",\"Kiribati\",\"Vanuatu\",\"Nauru\",\"New Zealand\",\"Tonga\",\"Samoa\",\"Antigua and Barbuda\",\"Barbados\",\"The Bahamas\",\"Belize\",\"Costa Rica\",\"Cuba\",\"Dominica\",\"The Dominican\",\"El Salvador\",\"Grenada\",\"Guatemala\",\"Haiti\",\"Honduras\",\"Jamaica\",\"Nicaragua\",\"Panama\",\"Saint Kitts and Nevis\",\"Saint Lucia\",\"Trinidad and Tobago\",\"Saint Vincent and the Grenadines\",\"Kyrgyzstan\",\"Kazakhstan\",\"Russia\",\"Tajikistan\",\"Turkmenistan\",\"Uzbekistan\",\"Burma\",\"Brunei\",\"Cambodia\",\"China\",\"Indonesia\",\"Japan\",\"South Korea\",\"Laos\",\"Mongolia\",\"Malaysia\",\"Papua New Guinea\",\"Philippines\",\"Singapore\",\"Thailand\",\"Timor-Leste\",\"Vietnam\",\"Albania\",\"Austria\",\"Belgium\",\"Bosnia and Herzegovina\",\"Belarus\",\"Bulgaria\",\"Cyprus\",\"Denmark\",\"Ireland\",\"Estonia\",\"Czechia\",\"Finland\",\"Germany\",\"Greece\",\"Croatia\",\"Hungary\",\"Iceland\",\"Latvia\",\"Lithuania\",\"Slovakia\",\"Luxembourg\",\"Moldova\",\"Montenegro\",\"North Macedonia\",\"Malta\",\"Netherlands\",\"Norway\",\"Poland\",\"Portugal\",\"Serbia\",\"Romania\",\"Slovenia\",\"Spain\",\"Sweden\",\"Switzerland\",\"United Kingdom\",\"Ukraine\",\"Azerbaijan\",\"Armenia\",\"Bahrain\",\"Georgia\",\"Iran\",\"Israel\",\"Iraq\",\"Jordan\",\"Kuwait\",\"Lebanon\",\"Oman\",\"Qatar\",\"Saudi Arabia\",\"Syria\",\"Turkey\",\"Yemen\",\"Canada\",\"Mexico\",\"United States\",\"Argentina\",\"Bolivia\",\"Brazil\",\"Chile\",\"Colombia\",\"Ecuador\",\"Guyana\",\"Suriname\",\"Paraguay\",\"Peru\",\"Uruguay\",\"Venezuela\",\"Afghanistan\",\"Bangladesh\",\"Bhutan\",\"Sri Lanka\",\"India\",\"Maldives\",\"Nepal\",\"Pakistan\"],\"palette\":[\"#1f77b3\",\"#ff7e0e\",\"#2ba02b\",\"#d62628\",\"#9367bc\",\"#8c564b\",\"#e277c1\",\"#7e7e7e\",\"#bcbc21\",\"#16bdcf\",\"#3a0182\",\"#004201\",\"#0fffa8\",\"#5d003f\",\"#bcbcff\",\"#d8afa1\",\"#b80080\",\"#004d52\",\"#6b6400\",\"#7c0100\",\"#6026ff\",\"#ffff9a\",\"#564964\",\"#8cb893\",\"#93fbff\",\"#018267\",\"#90ff00\",\"#8200a0\",\"#ac8944\",\"#5b3400\",\"#ffbff2\",\"#ff6e75\",\"#798cff\",\"#dd00ff\",\"#505646\",\"#004489\",\"#ffbf60\",\"#ff018c\",\"#bdc8cf\",\"#af97b5\",\"#b65600\",\"#017000\",\"#cd87ff\",\"#1cd646\",\"#bfebc3\",\"#7997b5\",\"#a56089\",\"#6e8956\",\"#bc7c75\",\"#8a2844\",\"#00acff\",\"#8ed4ff\",\"#4b6d77\",\"#00d4b1\",\"#9300f2\",\"#8a9500\",\"#5d5b9e\",\"#fddfba\",\"#00939e\",\"#ffdb00\",\"#00aa79\",\"#520067\",\"#000091\",\"#0a5d3d\",\"#a5e275\",\"#623b41\",\"#c6c689\",\"#ff9eb5\",\"#cd4f6b\",\"#ff07d6\",\"#8a3a05\",\"#7e3d70\",\"#ff4901\",\"#602ba5\",\"#1c00ff\",\"#e6dfff\",\"#aa3baf\",\"#d89c00\",\"#a3a39e\",\"#3f69ff\",\"#46490c\",\"#7b6985\",\"#6b978c\",\"#ff9a75\",\"#835bff\",\"#7c6b46\",\"#80b654\",\"#bc0049\",\"#fd93ff\",\"#5d0018\",\"#89d1d1\",\"#9c8cd3\",\"#da6d42\",\"#8a5700\",\"#3b5069\",\"#4b6b3b\",\"#edcfd8\",\"#cfedff\",\"#aa1500\",\"#dfff4f\",\"#ff2a56\",\"#d1499e\",\"#707cb8\",\"#598000\",\"#00e4fd\",\"#774b95\",\"#67d48c\",\"#3d3a72\",\"#ac413f\",\"#d6a166\",\"#c169cd\",\"#69595d\",\"#87aced\",\"#a0a569\",\"#d1aae6\",\"#870062\",\"#00fddb\",\"#672818\",\"#b342ff\",\"#0e59c4\",\"#168742\",\"#90d300\",\"#cd7900\",\"#f959ff\",\"#5b7466\",\"#8eaeb3\",\"#9c7c8c\",\"#4600c6\",\"#6b4d2d\",\"#a56d46\",\"#9e8972\",\"#a8afca\",\"#cd8ca7\",\"#00fd64\",\"#917900\",\"#ff62a1\",\"#f4ffd8\",\"#018cf0\",\"#13aca0\",\"#5b2d59\",\"#89859e\",\"#cfccba\",\"#d4afc4\",\"#dbdd6d\",\"#cffff4\",\"#006485\",\"#006962\",\"#a84167\",\"#2d97c4\",\"#a874ff\",\"#26ba5d\",\"#57b600\",\"#caffa7\",\"#a379aa\",\"#ffbc93\",\"#89e2c1\",\"#0fc8ff\",\"#d400c4\",\"#626d89\",\"#69858e\",\"#4b4d52\",\"#aa6067\",\"#79b5d4\",\"#2b5916\",\"#9a0024\",\"#bdd1f2\",\"#896e67\",\"#69a56b\",\"#855467\",\"#aecdba\",\"#87997e\",\"#cadb00\",\"#9a0390\",\"#ebbc1a\",\"#eb9cd1\",\"#70006e\",\"#b1a131\",\"#ca6b93\",\"#4146a3\",\"#e48c89\",\"#d44400\"]},\"id\":\"1446\",\"type\":\"CategoricalColorMapper\"},{\"attributes\":{\"bottom_units\":\"screen\",\"coordinates\":null,\"fill_alpha\":0.5,\"fill_color\":\"lightgrey\",\"group\":null,\"left_units\":\"screen\",\"level\":\"overlay\",\"line_alpha\":1.0,\"line_color\":\"black\",\"line_dash\":[4,4],\"line_width\":2,\"right_units\":\"screen\",\"syncable\":false,\"top_units\":\"screen\"},\"id\":\"1405\",\"type\":\"BoxAnnotation\"},{\"attributes\":{\"fill_color\":{\"field\":\"color\",\"transform\":{\"id\":\"1446\"}},\"hatch_color\":{\"field\":\"color\",\"transform\":{\"id\":\"1446\"}},\"line_color\":{\"field\":\"color\",\"transform\":{\"id\":\"1446\"}},\"size\":{\"field\":\"size\"},\"x\":{\"field\":\"Long\"},\"y\":{\"field\":\"Lat\"}},\"id\":\"1452\",\"type\":\"Scatter\"},{\"attributes\":{\"fill_alpha\":{\"value\":0.1},\"fill_color\":{\"field\":\"color\",\"transform\":{\"id\":\"1446\"}},\"hatch_alpha\":{\"value\":0.1},\"hatch_color\":{\"field\":\"color\",\"transform\":{\"id\":\"1446\"}},\"line_alpha\":{\"value\":0.1},\"line_color\":{\"field\":\"color\",\"transform\":{\"id\":\"1446\"}},\"size\":{\"field\":\"size\"},\"x\":{\"field\":\"Long\"},\"y\":{\"field\":\"Lat\"}},\"id\":\"1451\",\"type\":\"Scatter\"},{\"attributes\":{\"dimension\":\"lat\"},\"id\":\"1418\",\"type\":\"MercatorTickFormatter\"}],\"root_ids\":[\"1370\"]},\"title\":\"Bokeh Application\",\"version\":\"2.4.2\"}};\n",
       "    var render_items = [{\"docid\":\"b21b4e36-5281-4237-9151-73bc0d4b0417\",\"root_ids\":[\"1370\"],\"roots\":{\"1370\":\"54b3c478-9b68-4ff6-b98a-a697a2fc45ac\"}}];\n",
       "    root.Bokeh.embed.embed_items_notebook(docs_json, render_items);\n",
       "  }\n",
       "  if (root.Bokeh !== undefined && root.Bokeh.Panel !== undefined) {\n",
       "    embed_document(root);\n",
       "  } else {\n",
       "    var attempts = 0;\n",
       "    var timer = setInterval(function(root) {\n",
       "      if (root.Bokeh !== undefined && root.Bokeh.Panel !== undefined) {\n",
       "        clearInterval(timer);\n",
       "        embed_document(root);\n",
       "      } else if (document.readyState == \"complete\") {\n",
       "        attempts++;\n",
       "        if (attempts > 200) {\n",
       "          clearInterval(timer);\n",
       "          console.log(\"Bokeh: ERROR: Unable to run BokehJS code because BokehJS library is missing\");\n",
       "        }\n",
       "      }\n",
       "    }, 25, root)\n",
       "  }\n",
       "})(window);</script>"
      ],
      "text/plain": [
       ":Overlay\n",
       "   .Tiles.I  :Tiles   [x,y]\n",
       "   .Points.I :Points   [Long,Lat]   (Country,C02 Emissions (megatons))"
      ]
     },
     "execution_count": 46,
     "metadata": {
      "application/vnd.holoviews_exec.v0+json": {
       "id": "1370"
      }
     },
     "output_type": "execute_result"
    }
   ],
   "source": [
    "%%capture --no-display\n",
    "#map of the world wih the CO2 emissions\n",
    "\n",
    "\n",
    "\n",
    "# make a map of countries and co2 emission\n",
    "map_plot = country_data_df.hvplot.points(\n",
    "\"Long\",\"Lat\",\n",
    "geo = True,tiles = \"OSM\",frame_width =900, frame_height = 450, size='C02 Emissions (megatons)', color = \"Country\")\n",
    "\n",
    "# Display the map\n",
    "map_plot"
   ]
  },
  {
   "cell_type": "markdown",
   "id": "c74e0e18",
   "metadata": {},
   "source": [
    "   \n",
    "------------------------------------------------------------------------------------------------------------------------------- \n",
    "    \n",
    "    "
   ]
  },
  {
   "cell_type": "markdown",
   "id": "4f9041f0",
   "metadata": {},
   "source": [
    "GDP per Capita vs Particulate Matter Emissions:"
   ]
  },
  {
   "cell_type": "code",
   "execution_count": 29,
   "id": "a459e610",
   "metadata": {},
   "outputs": [
    {
     "name": "stdout",
     "output_type": "stream",
     "text": [
      "the rsquare-value is 0.06\n"
     ]
    },
    {
     "data": {
      "image/png": "[encoded data removed]",
      "text/plain": [
       "<Figure size 432x288 with 1 Axes>"
      ]
     },
     "metadata": {
      "needs_background": "light"
     },
     "output_type": "display_data"
    }
   ],
   "source": [
    "#create linear corrolation plot for particulate matter vs GDP\n",
    "linear_reg(country_data_df,country_data_df['Particulate Matter Emissions (micrograms per m3)'])\n",
    "plt.ylabel('Particulate Matter Emissions (ug-m3)')\n",
    "\n",
    "plt.title(f'Real GDP Per Capita 2020 vs Particulate Matter Emissions (ug-m3)')\n",
    "plt.savefig(\"../output_data/Real GDP Per Capita vs Particulate Matter Emissions (ug-m3).png\")\n",
    "plt.show()"
   ]
  },
  {
   "cell_type": "code",
   "execution_count": 30,
   "id": "00d3e197",
   "metadata": {},
   "outputs": [
    {
     "data": {
      "text/plain": [
       "(-0.25002831095087363, 0.0006639327097223613)"
      ]
     },
     "execution_count": 30,
     "metadata": {},
     "output_type": "execute_result"
    }
   ],
   "source": [
    "#pearson correlation for GDP vs Particulate \n",
    "scipy.stats.pearsonr(country_data_df['Real GDP Per Capita 2020'],\n",
    "                     country_data_df['Particulate Matter Emissions (micrograms per m3)'])"
   ]
  },
  {
   "cell_type": "markdown",
   "id": "1286ab43",
   "metadata": {},
   "source": [
    "   \n",
    "------------------------------------------------------------------------------------------------------------------------------- \n",
    "    \n",
    "    "
   ]
  },
  {
   "cell_type": "markdown",
   "id": "b0f57d0f",
   "metadata": {},
   "source": [
    "GDP per Capita vs % Waste recycled:"
   ]
  },
  {
   "cell_type": "code",
   "execution_count": 31,
   "id": "3db19ef1",
   "metadata": {},
   "outputs": [],
   "source": [
    "#find countries that do not have NaN as their % waste recycled\n",
    "have_waste_data = country_data_df.loc[country_data_df['% of Wasted Recycled Annually']>0]"
   ]
  },
  {
   "cell_type": "code",
   "execution_count": 32,
   "id": "8fb8376b",
   "metadata": {},
   "outputs": [
    {
     "name": "stdout",
     "output_type": "stream",
     "text": [
      "the rsquare-value is 0.32\n"
     ]
    },
    {
     "data": {
      "image/png": "[encoded data removed]",
      "text/plain": [
       "<Figure size 432x288 with 1 Axes>"
      ]
     },
     "metadata": {
      "needs_background": "light"
     },
     "output_type": "display_data"
    }
   ],
   "source": [
    "#linear regression of GDP vs percent waste recycled\n",
    "\n",
    "linear_reg(have_waste_data,have_waste_data['% of Wasted Recycled Annually'])\n",
    "plt.ylabel('Percent of Waste Recycled Annually (%)')\n",
    "\n",
    "plt.title(f'Real GDP Per Capita 2020 vs Percent of Waste Recycled Annually')\n",
    "plt.savefig(\"../output_data/Real GDP Per Capita 2020 vs % of Wasted Recycled Annually.png\")\n",
    "plt.show()"
   ]
  },
  {
   "cell_type": "code",
   "execution_count": 33,
   "id": "d4fd47fb",
   "metadata": {},
   "outputs": [
    {
     "data": {
      "text/plain": [
       "(0.5655211714675081, 5.904039801957096e-10)"
      ]
     },
     "execution_count": 33,
     "metadata": {},
     "output_type": "execute_result"
    }
   ],
   "source": [
    "#pearson correlation for GDP vs % recycling \n",
    "scipy.stats.pearsonr(have_waste_data['Real GDP Per Capita 2020'],\n",
    "                    have_waste_data['% of Wasted Recycled Annually'])"
   ]
  },
  {
   "cell_type": "markdown",
   "id": "3ed4b63c",
   "metadata": {},
   "source": [
    "   \n",
    "------------------------------------------------------------------------------------------------------------------------------- \n",
    "    \n",
    "    "
   ]
  },
  {
   "cell_type": "markdown",
   "id": "2c6af112",
   "metadata": {},
   "source": [
    "GDP per Capita vs Perecentage of The countries energy made by Clean/Green energy sources:"
   ]
  },
  {
   "cell_type": "code",
   "execution_count": 34,
   "id": "fde650d8",
   "metadata": {},
   "outputs": [
    {
     "name": "stdout",
     "output_type": "stream",
     "text": [
      "the rsquare-value is 0.01\n"
     ]
    },
    {
     "data": {
      "image/png": "[encoded data removed]",
      "text/plain": [
       "<Figure size 432x288 with 1 Axes>"
      ]
     },
     "metadata": {
      "needs_background": "light"
     },
     "output_type": "display_data"
    }
   ],
   "source": [
    "linear_reg(country_data_df,country_data_df['Electricity by Clean Energy (%)'])\n",
    "plt.ylabel('Electricity by Clean Energy (%)')\n",
    "\n",
    "plt.title(f'Real GDP Per Capita 2020 vs Electricity by Clean Energy (%)')\n",
    "plt.savefig(\"../output_data/Real GDP Per Capita 2020 vs Electricity by Clean Energy (%).png\")\n",
    "plt.show()"
   ]
  },
  {
   "cell_type": "code",
   "execution_count": 35,
   "id": "d7645e2f",
   "metadata": {},
   "outputs": [
    {
     "data": {
      "text/plain": [
       "(0.07762361343303417, 0.29761707149800387)"
      ]
     },
     "execution_count": 35,
     "metadata": {},
     "output_type": "execute_result"
    }
   ],
   "source": [
    "#pearson correlation for GDP vs clean electricity\n",
    "scipy.stats.pearsonr(country_data_df['Real GDP Per Capita 2020'],\n",
    "                     country_data_df['Electricity by Clean Energy (%)'])"
   ]
  },
  {
   "cell_type": "code",
   "execution_count": null,
   "id": "44aeeaf7",
   "metadata": {},
   "outputs": [],
   "source": []
  },
  {
   "cell_type": "markdown",
   "id": "a0f08980",
   "metadata": {},
   "source": [
    "## Everything beyond this we did not use in presentation as it did not corrolate to any information we needed to present "
   ]
  },
  {
   "cell_type": "markdown",
   "id": "64b7285e",
   "metadata": {},
   "source": [
    "GDP per Capita vs Percentage of Population Living in Urban Environments:\n"
   ]
  },
  {
   "cell_type": "code",
   "execution_count": 36,
   "id": "6898eff4",
   "metadata": {},
   "outputs": [
    {
     "name": "stdout",
     "output_type": "stream",
     "text": [
      "the rsquare-value is 0.37\n"
     ]
    },
    {
     "data": {
      "image/png": "[encoded data removed]",
      "text/plain": [
       "<Figure size 432x288 with 1 Axes>"
      ]
     },
     "metadata": {
      "needs_background": "light"
     },
     "output_type": "display_data"
    }
   ],
   "source": [
    "#linear regression of GDP vs urban population\n",
    "linear_reg(country_data_df,country_data_df['Urban Population (%)'])\n",
    "plt.ylabel('Urban Population (%)')\n",
    "\n",
    "plt.title(f'Real GDP Per Capita 2020 vs Urban Population (%)')\n",
    "plt.savefig(\"../Images/Real GDP Per Capita 2020 vs Urban Population (%).png\")\n",
    "plt.show()\n"
   ]
  },
  {
   "cell_type": "code",
   "execution_count": 37,
   "id": "d825f165",
   "metadata": {},
   "outputs": [
    {
     "data": {
      "text/plain": [
       "(0.6094542111234804, 6.860610797614411e-20)"
      ]
     },
     "execution_count": 37,
     "metadata": {},
     "output_type": "execute_result"
    }
   ],
   "source": [
    "#pearson correlation for GDP vs urban population\n",
    "scipy.stats.pearsonr(country_data_df['Real GDP Per Capita 2020'],\n",
    "                     country_data_df['Urban Population (%)'])"
   ]
  },
  {
   "cell_type": "code",
   "execution_count": 38,
   "id": "6e8d337d",
   "metadata": {},
   "outputs": [
    {
     "data": {
      "image/png": "[encoded data removed]",
      "text/plain": [
       "<Figure size 432x288 with 1 Axes>"
      ]
     },
     "metadata": {
      "needs_background": "light"
     },
     "output_type": "display_data"
    }
   ],
   "source": [
    "#linear regression of urban population vs CO2 emssion\n",
    "\n",
    "(slope, intercept, rvalue, pvalue, stderr) = linregress(country_data_df['Urban Population (%)'],country_data_df['C02 Emissions (megatons)'])\n",
    "regress_values = slope*country_data_df['Urban Population (%)']+intercept\n",
    "line_eq = \"y=\" + str(round(slope,2))+\"x +\" + str(round(intercept,2))\n",
    "    \n",
    "plt.scatter(country_data_df['Urban Population (%)'], country_data_df['C02 Emissions (megatons)'])\n",
    "plt.plot(country_data_df['Urban Population (%)'],regress_values,\"r-\")\n",
    "plt.annotate(line_eq,(0.5,0.84),xycoords='figure fraction', fontsize = 13, color = \"black\")\n",
    "r_squared = round(rvalue**2,2)\n",
    "plt.annotate(f'r squared-value = {r_squared}',(0.5,0.78),xycoords='figure fraction', fontsize = 13, color = \"black\")\n",
    "plt.xlabel(\"Urban Population (%)\")\n",
    "plt.ylabel('C02 Emissions (megatons)')\n",
    "plt.title(f'Urban Population (%) vs C02 Emissions (megatons)')\n",
    "plt.savefig(\"../output_data/Urban Population (%) vs C02 Emissions (megatons).png\")\n",
    "plt.show()"
   ]
  },
  {
   "cell_type": "code",
   "execution_count": 39,
   "id": "2331afd9",
   "metadata": {},
   "outputs": [
    {
     "data": {
      "text/plain": [
       "(0.09763882825359035, 0.18976330741344855)"
      ]
     },
     "execution_count": 39,
     "metadata": {},
     "output_type": "execute_result"
    }
   ],
   "source": [
    "#pearson correlation for urban population vs CO2 emissions\n",
    "scipy.stats.pearsonr(country_data_df['Urban Population (%)'],\n",
    "                     country_data_df['C02 Emissions (megatons)'])"
   ]
  },
  {
   "cell_type": "markdown",
   "id": "c2ba65da",
   "metadata": {},
   "source": [
    "   \n",
    "------------------------------------------------------------------------------------------------------------------------------- \n",
    "    \n",
    "    "
   ]
  },
  {
   "cell_type": "markdown",
   "id": "55aead45",
   "metadata": {},
   "source": [
    "GDP per Capita vs Percentage of Total Number of Environmental Agreements:"
   ]
  },
  {
   "cell_type": "code",
   "execution_count": 40,
   "id": "6279f363",
   "metadata": {},
   "outputs": [
    {
     "name": "stdout",
     "output_type": "stream",
     "text": [
      "the rsquare-value is 0.08\n"
     ]
    },
    {
     "data": {
      "image/png": "[encoded data removed]",
      "text/plain": [
       "<Figure size 432x288 with 1 Axes>"
      ]
     },
     "metadata": {
      "needs_background": "light"
     },
     "output_type": "display_data"
    }
   ],
   "source": [
    "#linear regression of GDP vs number of total env agreements a country is in:\n",
    "\n",
    "linear_reg(country_data_df,country_data_df['Total Agreement'])\n",
    "plt.ylabel('Total Agreements')\n",
    "\n",
    "plt.title(f'Real GDP Per Capita 2020 vs Total Agreements')\n",
    "plt.savefig(\"../output_data/Real GDP Per Capita 2020 vs Total Agreements.png\")\n",
    "plt.show()"
   ]
  },
  {
   "cell_type": "code",
   "execution_count": 41,
   "id": "46bd81cb",
   "metadata": {},
   "outputs": [
    {
     "data": {
      "text/plain": [
       "(0.2796403527394335, 0.00013177467414221967)"
      ]
     },
     "execution_count": 41,
     "metadata": {},
     "output_type": "execute_result"
    }
   ],
   "source": [
    "#pearson correlation for urban population vs GDP\n",
    "scipy.stats.pearsonr(country_data_df['Real GDP Per Capita 2020'],\n",
    "                     country_data_df['Total Agreement'])"
   ]
  },
  {
   "cell_type": "markdown",
   "id": "bf501306",
   "metadata": {},
   "source": [
    "   \n",
    "------------------------------------------------------------------------------------------------------------------------------- \n",
    "    \n",
    "    "
   ]
  },
  {
   "cell_type": "code",
   "execution_count": 42,
   "id": "707579e9",
   "metadata": {},
   "outputs": [
    {
     "data": {
      "text/html": [
       "<div>\n",
       "<style scoped>\n",
       "    .dataframe tbody tr th:only-of-type {\n",
       "        vertical-align: middle;\n",
       "    }\n",
       "\n",
       "    .dataframe tbody tr th {\n",
       "        vertical-align: top;\n",
       "    }\n",
       "\n",
       "    .dataframe thead th {\n",
       "        text-align: right;\n",
       "    }\n",
       "</style>\n",
       "<table border=\"1\" class=\"dataframe\">\n",
       "  <thead>\n",
       "    <tr style=\"text-align: right;\">\n",
       "      <th></th>\n",
       "      <th>Country</th>\n",
       "      <th>Waste</th>\n",
       "      <th>Recycled</th>\n",
       "      <th>Lat</th>\n",
       "      <th>Long</th>\n",
       "      <th>GDP (billion USD)</th>\n",
       "      <th>Real GDP 2020 (billion USD)</th>\n",
       "      <th>Real GDP Per Capita 2020</th>\n",
       "      <th>Wasted Generated Annually (million tons)</th>\n",
       "      <th>Wasted Recycled Annually (million tons)</th>\n",
       "      <th>...</th>\n",
       "      <th>Particulate Matter Emissions (micrograms per m3)</th>\n",
       "      <th>C02 Emissions (megatons)</th>\n",
       "      <th>Methane  Emissions (megatons)</th>\n",
       "      <th>Electricity by Unclean Energy (%)</th>\n",
       "      <th>Electricity by Clean Energy (%)</th>\n",
       "      <th>Urban Population (%)</th>\n",
       "      <th>Net Migration</th>\n",
       "      <th>Total Agreement</th>\n",
       "      <th>Development Status</th>\n",
       "      <th>composite_index</th>\n",
       "    </tr>\n",
       "  </thead>\n",
       "  <tbody>\n",
       "    <tr>\n",
       "      <th>0</th>\n",
       "      <td>Algeria</td>\n",
       "      <td>12.38</td>\n",
       "      <td>0.99</td>\n",
       "      <td>28.00</td>\n",
       "      <td>3.00</td>\n",
       "      <td>169.91</td>\n",
       "      <td>468.40</td>\n",
       "      <td>10700.0</td>\n",
       "      <td>12.38</td>\n",
       "      <td>0.99</td>\n",
       "      <td>...</td>\n",
       "      <td>35.17</td>\n",
       "      <td>150.01</td>\n",
       "      <td>49.94</td>\n",
       "      <td>98.9</td>\n",
       "      <td>1.1</td>\n",
       "      <td>74.8</td>\n",
       "      <td>-0.82</td>\n",
       "      <td>-0.82</td>\n",
       "      <td>Developing</td>\n",
       "      <td>4.55</td>\n",
       "    </tr>\n",
       "    <tr>\n",
       "      <th>1</th>\n",
       "      <td>Angola</td>\n",
       "      <td>4.21</td>\n",
       "      <td>0.00</td>\n",
       "      <td>-12.30</td>\n",
       "      <td>18.30</td>\n",
       "      <td>97.26</td>\n",
       "      <td>203.71</td>\n",
       "      <td>6200.0</td>\n",
       "      <td>4.21</td>\n",
       "      <td>0.00</td>\n",
       "      <td>...</td>\n",
       "      <td>27.95</td>\n",
       "      <td>34.69</td>\n",
       "      <td>23.28</td>\n",
       "      <td>28.4</td>\n",
       "      <td>71.6</td>\n",
       "      <td>68.1</td>\n",
       "      <td>-0.19</td>\n",
       "      <td>-0.19</td>\n",
       "      <td>Developing</td>\n",
       "      <td>35.80</td>\n",
       "    </tr>\n",
       "    <tr>\n",
       "      <th>2</th>\n",
       "      <td>Botswana</td>\n",
       "      <td>0.21</td>\n",
       "      <td>0.00</td>\n",
       "      <td>-22.00</td>\n",
       "      <td>24.00</td>\n",
       "      <td>18.34</td>\n",
       "      <td>37.72</td>\n",
       "      <td>16000.0</td>\n",
       "      <td>0.21</td>\n",
       "      <td>0.00</td>\n",
       "      <td>...</td>\n",
       "      <td>21.24</td>\n",
       "      <td>6.34</td>\n",
       "      <td>5.73</td>\n",
       "      <td>99.8</td>\n",
       "      <td>0.2</td>\n",
       "      <td>72.2</td>\n",
       "      <td>2.81</td>\n",
       "      <td>2.81</td>\n",
       "      <td>Developing</td>\n",
       "      <td>0.60</td>\n",
       "    </tr>\n",
       "    <tr>\n",
       "      <th>3</th>\n",
       "      <td>Benin</td>\n",
       "      <td>0.69</td>\n",
       "      <td>0.17</td>\n",
       "      <td>9.30</td>\n",
       "      <td>2.15</td>\n",
       "      <td>10.31</td>\n",
       "      <td>40.29</td>\n",
       "      <td>3300.0</td>\n",
       "      <td>0.69</td>\n",
       "      <td>0.17</td>\n",
       "      <td>...</td>\n",
       "      <td>33.11</td>\n",
       "      <td>6.48</td>\n",
       "      <td>5.80</td>\n",
       "      <td>96.9</td>\n",
       "      <td>3.1</td>\n",
       "      <td>49.5</td>\n",
       "      <td>0.24</td>\n",
       "      <td>0.24</td>\n",
       "      <td>LDC</td>\n",
       "      <td>14.05</td>\n",
       "    </tr>\n",
       "    <tr>\n",
       "      <th>4</th>\n",
       "      <td>Burundi</td>\n",
       "      <td>1.87</td>\n",
       "      <td>0.00</td>\n",
       "      <td>-3.30</td>\n",
       "      <td>30.00</td>\n",
       "      <td>3.03</td>\n",
       "      <td>8.69</td>\n",
       "      <td>700.0</td>\n",
       "      <td>1.87</td>\n",
       "      <td>0.00</td>\n",
       "      <td>...</td>\n",
       "      <td>35.61</td>\n",
       "      <td>0.50</td>\n",
       "      <td>1.42</td>\n",
       "      <td>33.3</td>\n",
       "      <td>66.7</td>\n",
       "      <td>14.4</td>\n",
       "      <td>7.09</td>\n",
       "      <td>7.09</td>\n",
       "      <td>LDC</td>\n",
       "      <td>33.35</td>\n",
       "    </tr>\n",
       "    <tr>\n",
       "      <th>...</th>\n",
       "      <td>...</td>\n",
       "      <td>...</td>\n",
       "      <td>...</td>\n",
       "      <td>...</td>\n",
       "      <td>...</td>\n",
       "      <td>...</td>\n",
       "      <td>...</td>\n",
       "      <td>...</td>\n",
       "      <td>...</td>\n",
       "      <td>...</td>\n",
       "      <td>...</td>\n",
       "      <td>...</td>\n",
       "      <td>...</td>\n",
       "      <td>...</td>\n",
       "      <td>...</td>\n",
       "      <td>...</td>\n",
       "      <td>...</td>\n",
       "      <td>...</td>\n",
       "      <td>...</td>\n",
       "      <td>...</td>\n",
       "      <td>...</td>\n",
       "    </tr>\n",
       "    <tr>\n",
       "      <th>177</th>\n",
       "      <td>Sri Lanka</td>\n",
       "      <td>2.63</td>\n",
       "      <td>0.34</td>\n",
       "      <td>7.00</td>\n",
       "      <td>81.00</td>\n",
       "      <td>84.02</td>\n",
       "      <td>274.80</td>\n",
       "      <td>12500.0</td>\n",
       "      <td>2.63</td>\n",
       "      <td>0.34</td>\n",
       "      <td>...</td>\n",
       "      <td>15.25</td>\n",
       "      <td>23.36</td>\n",
       "      <td>10.95</td>\n",
       "      <td>64.0</td>\n",
       "      <td>36.0</td>\n",
       "      <td>19.0</td>\n",
       "      <td>-1.22</td>\n",
       "      <td>-1.22</td>\n",
       "      <td>Developing</td>\n",
       "      <td>24.40</td>\n",
       "    </tr>\n",
       "    <tr>\n",
       "      <th>178</th>\n",
       "      <td>India</td>\n",
       "      <td>168.40</td>\n",
       "      <td>8.42</td>\n",
       "      <td>20.00</td>\n",
       "      <td>77.00</td>\n",
       "      <td>2835.93</td>\n",
       "      <td>8443.36</td>\n",
       "      <td>6100.0</td>\n",
       "      <td>168.40</td>\n",
       "      <td>8.42</td>\n",
       "      <td>...</td>\n",
       "      <td>65.20</td>\n",
       "      <td>2407.67</td>\n",
       "      <td>559.11</td>\n",
       "      <td>75.5</td>\n",
       "      <td>24.5</td>\n",
       "      <td>35.9</td>\n",
       "      <td>0.16</td>\n",
       "      <td>0.16</td>\n",
       "      <td>Developing</td>\n",
       "      <td>14.75</td>\n",
       "    </tr>\n",
       "    <tr>\n",
       "      <th>179</th>\n",
       "      <td>Maldives</td>\n",
       "      <td>0.21</td>\n",
       "      <td>0.00</td>\n",
       "      <td>3.15</td>\n",
       "      <td>73.00</td>\n",
       "      <td>4.50</td>\n",
       "      <td>7.05</td>\n",
       "      <td>13000.0</td>\n",
       "      <td>0.21</td>\n",
       "      <td>0.00</td>\n",
       "      <td>...</td>\n",
       "      <td>7.63</td>\n",
       "      <td>1.44</td>\n",
       "      <td>0.14</td>\n",
       "      <td>99.6</td>\n",
       "      <td>0.4</td>\n",
       "      <td>41.5</td>\n",
       "      <td>-12.78</td>\n",
       "      <td>-12.78</td>\n",
       "      <td>Developing</td>\n",
       "      <td>0.20</td>\n",
       "    </tr>\n",
       "    <tr>\n",
       "      <th>180</th>\n",
       "      <td>Nepal</td>\n",
       "      <td>1.77</td>\n",
       "      <td>0.00</td>\n",
       "      <td>28.00</td>\n",
       "      <td>84.00</td>\n",
       "      <td>24.88</td>\n",
       "      <td>110.72</td>\n",
       "      <td>3800.0</td>\n",
       "      <td>1.77</td>\n",
       "      <td>0.00</td>\n",
       "      <td>...</td>\n",
       "      <td>94.33</td>\n",
       "      <td>9.11</td>\n",
       "      <td>41.15</td>\n",
       "      <td>0.0</td>\n",
       "      <td>100.0</td>\n",
       "      <td>21.5</td>\n",
       "      <td>-4.21</td>\n",
       "      <td>-4.21</td>\n",
       "      <td>LDC</td>\n",
       "      <td>50.00</td>\n",
       "    </tr>\n",
       "    <tr>\n",
       "      <th>181</th>\n",
       "      <td>Pakistan</td>\n",
       "      <td>30.76</td>\n",
       "      <td>2.46</td>\n",
       "      <td>30.00</td>\n",
       "      <td>70.00</td>\n",
       "      <td>253.18</td>\n",
       "      <td>1021.13</td>\n",
       "      <td>4600.0</td>\n",
       "      <td>30.76</td>\n",
       "      <td>2.46</td>\n",
       "      <td>...</td>\n",
       "      <td>55.21</td>\n",
       "      <td>201.15</td>\n",
       "      <td>142.12</td>\n",
       "      <td>55.2</td>\n",
       "      <td>44.8</td>\n",
       "      <td>37.7</td>\n",
       "      <td>-0.96</td>\n",
       "      <td>-0.96</td>\n",
       "      <td>Developing</td>\n",
       "      <td>26.40</td>\n",
       "    </tr>\n",
       "  </tbody>\n",
       "</table>\n",
       "<p>182 rows × 22 columns</p>\n",
       "</div>"
      ],
      "text/plain": [
       "       Country   Waste  Recycled    Lat   Long  GDP (billion USD)  \\\n",
       "0      Algeria   12.38      0.99  28.00   3.00             169.91   \n",
       "1       Angola    4.21      0.00 -12.30  18.30              97.26   \n",
       "2     Botswana    0.21      0.00 -22.00  24.00              18.34   \n",
       "3        Benin    0.69      0.17   9.30   2.15              10.31   \n",
       "4      Burundi    1.87      0.00  -3.30  30.00               3.03   \n",
       "..         ...     ...       ...    ...    ...                ...   \n",
       "177  Sri Lanka    2.63      0.34   7.00  81.00              84.02   \n",
       "178      India  168.40      8.42  20.00  77.00            2835.93   \n",
       "179   Maldives    0.21      0.00   3.15  73.00               4.50   \n",
       "180      Nepal    1.77      0.00  28.00  84.00              24.88   \n",
       "181   Pakistan   30.76      2.46  30.00  70.00             253.18   \n",
       "\n",
       "     Real GDP 2020 (billion USD)  Real GDP Per Capita 2020  \\\n",
       "0                         468.40                   10700.0   \n",
       "1                         203.71                    6200.0   \n",
       "2                          37.72                   16000.0   \n",
       "3                          40.29                    3300.0   \n",
       "4                           8.69                     700.0   \n",
       "..                           ...                       ...   \n",
       "177                       274.80                   12500.0   \n",
       "178                      8443.36                    6100.0   \n",
       "179                         7.05                   13000.0   \n",
       "180                       110.72                    3800.0   \n",
       "181                      1021.13                    4600.0   \n",
       "\n",
       "     Wasted Generated Annually (million tons)  \\\n",
       "0                                       12.38   \n",
       "1                                        4.21   \n",
       "2                                        0.21   \n",
       "3                                        0.69   \n",
       "4                                        1.87   \n",
       "..                                        ...   \n",
       "177                                      2.63   \n",
       "178                                    168.40   \n",
       "179                                      0.21   \n",
       "180                                      1.77   \n",
       "181                                     30.76   \n",
       "\n",
       "     Wasted Recycled Annually (million tons)  ...  \\\n",
       "0                                       0.99  ...   \n",
       "1                                       0.00  ...   \n",
       "2                                       0.00  ...   \n",
       "3                                       0.17  ...   \n",
       "4                                       0.00  ...   \n",
       "..                                       ...  ...   \n",
       "177                                     0.34  ...   \n",
       "178                                     8.42  ...   \n",
       "179                                     0.00  ...   \n",
       "180                                     0.00  ...   \n",
       "181                                     2.46  ...   \n",
       "\n",
       "     Particulate Matter Emissions (micrograms per m3)  \\\n",
       "0                                               35.17   \n",
       "1                                               27.95   \n",
       "2                                               21.24   \n",
       "3                                               33.11   \n",
       "4                                               35.61   \n",
       "..                                                ...   \n",
       "177                                             15.25   \n",
       "178                                             65.20   \n",
       "179                                              7.63   \n",
       "180                                             94.33   \n",
       "181                                             55.21   \n",
       "\n",
       "     C02 Emissions (megatons)  Methane  Emissions (megatons)  \\\n",
       "0                      150.01                          49.94   \n",
       "1                       34.69                          23.28   \n",
       "2                        6.34                           5.73   \n",
       "3                        6.48                           5.80   \n",
       "4                        0.50                           1.42   \n",
       "..                        ...                            ...   \n",
       "177                     23.36                          10.95   \n",
       "178                   2407.67                         559.11   \n",
       "179                      1.44                           0.14   \n",
       "180                      9.11                          41.15   \n",
       "181                    201.15                         142.12   \n",
       "\n",
       "     Electricity by Unclean Energy (%)  Electricity by Clean Energy (%)  \\\n",
       "0                                 98.9                              1.1   \n",
       "1                                 28.4                             71.6   \n",
       "2                                 99.8                              0.2   \n",
       "3                                 96.9                              3.1   \n",
       "4                                 33.3                             66.7   \n",
       "..                                 ...                              ...   \n",
       "177                               64.0                             36.0   \n",
       "178                               75.5                             24.5   \n",
       "179                               99.6                              0.4   \n",
       "180                                0.0                            100.0   \n",
       "181                               55.2                             44.8   \n",
       "\n",
       "     Urban Population (%)  Net Migration  Total Agreement  Development Status  \\\n",
       "0                    74.8          -0.82            -0.82          Developing   \n",
       "1                    68.1          -0.19            -0.19          Developing   \n",
       "2                    72.2           2.81             2.81          Developing   \n",
       "3                    49.5           0.24             0.24                 LDC   \n",
       "4                    14.4           7.09             7.09                 LDC   \n",
       "..                    ...            ...              ...                 ...   \n",
       "177                  19.0          -1.22            -1.22          Developing   \n",
       "178                  35.9           0.16             0.16          Developing   \n",
       "179                  41.5         -12.78           -12.78          Developing   \n",
       "180                  21.5          -4.21            -4.21                 LDC   \n",
       "181                  37.7          -0.96            -0.96          Developing   \n",
       "\n",
       "     composite_index  \n",
       "0               4.55  \n",
       "1              35.80  \n",
       "2               0.60  \n",
       "3              14.05  \n",
       "4              33.35  \n",
       "..               ...  \n",
       "177            24.40  \n",
       "178            14.75  \n",
       "179             0.20  \n",
       "180            50.00  \n",
       "181            26.40  \n",
       "\n",
       "[182 rows x 22 columns]"
      ]
     },
     "execution_count": 42,
     "metadata": {},
     "output_type": "execute_result"
    }
   ],
   "source": [
    "#creating a green index using clean energy production and recycling percentage, to maybe convey greeness better\n",
    "\n",
    "# Create a NumPy array containing the relevant data for each country\n",
    "data = np.array(country_data_df[['Electricity by Clean Energy (%)', '% of Wasted Recycled Annually']])\n",
    "\n",
    "# Calculate the composite environmental greenness index for each country\n",
    "composite_index = np.mean(data, axis=1)\n",
    "\n",
    "# Add the composite index to the DataFrame as a new column\n",
    "country_data_df['composite_index'] = composite_index\n",
    "\n",
    "# Print the updated DataFrame\n",
    "country_data_df\n"
   ]
  },
  {
   "cell_type": "code",
   "execution_count": 43,
   "id": "607abd13",
   "metadata": {},
   "outputs": [
    {
     "name": "stdout",
     "output_type": "stream",
     "text": [
      "the rsquare-value is 0.08\n"
     ]
    },
    {
     "data": {
      "image/png": "[encoded data removed]",
      "text/plain": [
       "<Figure size 432x288 with 1 Axes>"
      ]
     },
     "metadata": {
      "needs_background": "light"
     },
     "output_type": "display_data"
    }
   ],
   "source": [
    "#linear regression for greeness index vs GDP\n",
    "linear_reg(country_data_df,country_data_df['composite_index'])\n",
    "plt.ylabel('Greenness Composite Index')\n",
    "\n",
    "plt.title(f'Real GDP Per Capita 2020 vs Greenness Composite Index')\n",
    "plt.savefig(\"../output_data/Real GDP Per Capita 2020 vs Greenness Composite Index.png\")\n",
    "plt.show()"
   ]
  },
  {
   "cell_type": "code",
   "execution_count": 45,
   "id": "98349bc4",
   "metadata": {},
   "outputs": [
    {
     "data": {},
     "metadata": {},
     "output_type": "display_data"
    },
    {
     "data": {
      "application/vnd.holoviews_exec.v0+json": "",
      "text/html": [
       "<div id='1187'>\n",
       "\n",
       "\n",
       "\n",
       "\n",
       "\n",
       "  <div class=\"bk-root\" id=\"111e5f0a-8fe0-4d18-8858-538640b99d73\" data-root-id=\"1187\"></div>\n",
       "</div>\n",
       "<script type=\"application/javascript\">(function(root) {\n",
       "  function embed_document(root) {\n",
       "    var docs_json = {\"3b1e7ab2-fb10-42fe-bb3e-6cae05abbef8\":{\"defs\":[{\"extends\":null,\"module\":null,\"name\":\"ReactiveHTML1\",\"overrides\":[],\"properties\":[]},{\"extends\":null,\"module\":null,\"name\":\"FlexBox1\",\"overrides\":[],\"properties\":[{\"default\":\"flex-start\",\"kind\":null,\"name\":\"align_content\"},{\"default\":\"flex-start\",\"kind\":null,\"name\":\"align_items\"},{\"default\":\"row\",\"kind\":null,\"name\":\"flex_direction\"},{\"default\":\"wrap\",\"kind\":null,\"name\":\"flex_wrap\"},{\"default\":\"flex-start\",\"kind\":null,\"name\":\"justify_content\"}]},{\"extends\":null,\"module\":null,\"name\":\"GridStack1\",\"overrides\":[],\"properties\":[{\"default\":\"warn\",\"kind\":null,\"name\":\"mode\"},{\"default\":null,\"kind\":null,\"name\":\"ncols\"},{\"default\":null,\"kind\":null,\"name\":\"nrows\"},{\"default\":true,\"kind\":null,\"name\":\"allow_resize\"},{\"default\":true,\"kind\":null,\"name\":\"allow_drag\"},{\"default\":[],\"kind\":null,\"name\":\"state\"}]},{\"extends\":null,\"module\":null,\"name\":\"click1\",\"overrides\":[],\"properties\":[{\"default\":\"\",\"kind\":null,\"name\":\"terminal_output\"},{\"default\":\"\",\"kind\":null,\"name\":\"debug_name\"},{\"default\":0,\"kind\":null,\"name\":\"clears\"}]},{\"extends\":null,\"module\":null,\"name\":\"TemplateActions1\",\"overrides\":[],\"properties\":[{\"default\":0,\"kind\":null,\"name\":\"open_modal\"},{\"default\":0,\"kind\":null,\"name\":\"close_modal\"}]},{\"extends\":null,\"module\":null,\"name\":\"MaterialTemplateActions1\",\"overrides\":[],\"properties\":[{\"default\":0,\"kind\":null,\"name\":\"open_modal\"},{\"default\":0,\"kind\":null,\"name\":\"close_modal\"}]}],\"roots\":{\"references\":[{\"attributes\":{\"coordinates\":null,\"data_source\":{\"id\":\"1264\"},\"glyph\":{\"id\":\"1267\"},\"group\":null,\"hover_glyph\":{\"id\":\"1270\"},\"muted_glyph\":{\"id\":\"1271\"},\"nonselection_glyph\":{\"id\":\"1268\"},\"selection_glyph\":{\"id\":\"1269\"},\"view\":{\"id\":\"1273\"}},\"id\":\"1272\",\"type\":\"GlyphRenderer\"},{\"attributes\":{\"axis\":{\"id\":\"1209\"},\"coordinates\":null,\"grid_line_color\":null,\"group\":null,\"ticker\":null},\"id\":\"1212\",\"type\":\"Grid\"},{\"attributes\":{\"children\":[{\"id\":\"1188\"},{\"id\":\"1200\"},{\"id\":\"1338\"}],\"margin\":[0,0,0,0],\"name\":\"Row03385\",\"tags\":[\"embedded\"]},\"id\":\"1187\",\"type\":\"Row\"},{\"attributes\":{},\"id\":\"1205\",\"type\":\"LinearScale\"},{\"attributes\":{},\"id\":\"1238\",\"type\":\"AllLabels\"},{\"attributes\":{},\"id\":\"1218\",\"type\":\"PanTool\"},{\"attributes\":{\"axis_label\":\"x\",\"coordinates\":null,\"formatter\":{\"id\":\"1233\"},\"group\":null,\"major_label_policy\":{\"id\":\"1238\"},\"ticker\":{\"id\":\"1232\"}},\"id\":\"1209\",\"type\":\"LinearAxis\"},{\"attributes\":{\"margin\":[5,5,5,5],\"name\":\"HSpacer03390\",\"sizing_mode\":\"stretch_width\"},\"id\":\"1338\",\"type\":\"Spacer\"},{\"attributes\":{\"attribution\":\"&copy; <a href=\\\"https://www.openstreetmap.org/copyright\\\">OpenStreetMap</a> contributors\",\"url\":\"https://c.tile.openstreetmap.org/{Z}/{X}/{Y}.png\"},\"id\":\"1258\",\"type\":\"WMTSTileSource\"},{\"attributes\":{\"bottom_units\":\"screen\",\"coordinates\":null,\"fill_alpha\":0.5,\"fill_color\":\"lightgrey\",\"group\":null,\"left_units\":\"screen\",\"level\":\"overlay\",\"line_alpha\":1.0,\"line_color\":\"black\",\"line_dash\":[4,4],\"line_width\":2,\"right_units\":\"screen\",\"syncable\":false,\"top_units\":\"screen\"},\"id\":\"1222\",\"type\":\"BoxAnnotation\"},{\"attributes\":{\"fill_color\":{\"field\":\"color\",\"transform\":{\"id\":\"1263\"}},\"hatch_color\":{\"field\":\"color\",\"transform\":{\"id\":\"1263\"}},\"line_color\":{\"field\":\"color\",\"transform\":{\"id\":\"1263\"}},\"size\":{\"field\":\"size\"},\"x\":{\"field\":\"Long\"},\"y\":{\"field\":\"Lat\"}},\"id\":\"1267\",\"type\":\"Scatter\"},{\"attributes\":{\"margin\":[5,5,5,5],\"name\":\"HSpacer03389\",\"sizing_mode\":\"stretch_width\"},\"id\":\"1188\",\"type\":\"Spacer\"},{\"attributes\":{\"coordinates\":null,\"group\":null,\"level\":\"glyph\",\"tile_source\":{\"id\":\"1258\"}},\"id\":\"1261\",\"type\":\"TileRenderer\"},{\"attributes\":{\"coordinates\":null,\"group\":null,\"text_color\":\"black\",\"text_font_size\":\"12pt\"},\"id\":\"1201\",\"type\":\"Title\"},{\"attributes\":{\"fill_alpha\":{\"value\":0.1},\"fill_color\":{\"field\":\"color\",\"transform\":{\"id\":\"1263\"}},\"hatch_alpha\":{\"value\":0.1},\"hatch_color\":{\"field\":\"color\",\"transform\":{\"id\":\"1263\"}},\"line_alpha\":{\"value\":0.1},\"line_color\":{\"field\":\"color\",\"transform\":{\"id\":\"1263\"}},\"size\":{\"field\":\"size\"},\"x\":{\"field\":\"Long\"},\"y\":{\"field\":\"Lat\"}},\"id\":\"1268\",\"type\":\"Scatter\"},{\"attributes\":{\"dimension\":\"lon\"},\"id\":\"1233\",\"type\":\"MercatorTickFormatter\"},{\"attributes\":{\"label\":{\"field\":\"color\"},\"renderers\":[{\"id\":\"1272\"}]},\"id\":\"1281\",\"type\":\"LegendItem\"},{\"attributes\":{\"callback\":null,\"formatters\":{\"$x\":{\"id\":\"1282\"},\"$y\":{\"id\":\"1283\"}},\"renderers\":[{\"id\":\"1272\"}],\"tags\":[\"hv_created\"],\"tooltips\":[[\"Long\",\"$x{custom}\"],[\"Lat\",\"$y{custom}\"],[\"Country\",\"@{Country}\"],[\"composite_index\",\"@{composite_index}\"]]},\"id\":\"1197\",\"type\":\"HoverTool\"},{\"attributes\":{\"code\":\"\\n        var projections = Bokeh.require(\\\"core/util/projections\\\");\\n        var x = special_vars.data_x\\n        var y = special_vars.data_y\\n        if (projections.wgs84_mercator.invert == null) {\\n          var coords = projections.wgs84_mercator.inverse([x, y])\\n        } else {\\n          var coords = projections.wgs84_mercator.invert(x, y)\\n        }\\n        return \\\"\\\" + (coords[0]).toFixed(4)\\n    \"},\"id\":\"1282\",\"type\":\"CustomJSHover\"},{\"attributes\":{\"tools\":[{\"id\":\"1197\"},{\"id\":\"1217\"},{\"id\":\"1218\"},{\"id\":\"1219\"},{\"id\":\"1220\"},{\"id\":\"1221\"}]},\"id\":\"1223\",\"type\":\"Toolbar\"},{\"attributes\":{\"end\":21429001.855253737,\"min_interval\":5,\"reset_end\":21429001.855253737,\"reset_start\":-21429001.855253723,\"start\":-21429001.855253723,\"tags\":[[[\"Long\",\"Long\",null]]]},\"id\":\"1193\",\"type\":\"Range1d\"},{\"attributes\":{\"axis_label\":\"y\",\"coordinates\":null,\"formatter\":{\"id\":\"1235\"},\"group\":null,\"major_label_policy\":{\"id\":\"1245\"},\"ticker\":{\"id\":\"1234\"}},\"id\":\"1213\",\"type\":\"LinearAxis\"},{\"attributes\":{\"source\":{\"id\":\"1264\"}},\"id\":\"1273\",\"type\":\"CDSView\"},{\"attributes\":{\"click_policy\":\"mute\",\"coordinates\":null,\"group\":null,\"items\":[{\"id\":\"1281\"}],\"location\":[0,0]},\"id\":\"1280\",\"type\":\"Legend\"},{\"attributes\":{\"axis\":{\"id\":\"1213\"},\"coordinates\":null,\"dimension\":1,\"grid_line_color\":null,\"group\":null,\"ticker\":null},\"id\":\"1216\",\"type\":\"Grid\"},{\"attributes\":{\"code\":\"\\n        var projections = Bokeh.require(\\\"core/util/projections\\\");\\n        var x = special_vars.data_x\\n        var y = special_vars.data_y\\n        if (projections.wgs84_mercator.invert == null) {\\n          var coords = projections.wgs84_mercator.inverse([x, y])\\n        } else {\\n          var coords = projections.wgs84_mercator.invert(x, y)\\n        }\\n        return \\\"\\\" + (coords[1]).toFixed(4)\\n    \"},\"id\":\"1283\",\"type\":\"CustomJSHover\"},{\"attributes\":{\"dimension\":\"lat\"},\"id\":\"1235\",\"type\":\"MercatorTickFormatter\"},{\"attributes\":{\"zoom_on_axis\":false},\"id\":\"1219\",\"type\":\"WheelZoomTool\"},{\"attributes\":{\"dimension\":\"lat\"},\"id\":\"1234\",\"type\":\"MercatorTicker\"},{\"attributes\":{},\"id\":\"1265\",\"type\":\"Selection\"},{\"attributes\":{},\"id\":\"1217\",\"type\":\"SaveTool\"},{\"attributes\":{\"dimension\":\"lon\"},\"id\":\"1232\",\"type\":\"MercatorTicker\"},{\"attributes\":{\"match_aspect\":true,\"overlay\":{\"id\":\"1222\"}},\"id\":\"1220\",\"type\":\"BoxZoomTool\"},{\"attributes\":{\"fill_alpha\":{\"value\":0.2},\"fill_color\":{\"field\":\"color\",\"transform\":{\"id\":\"1263\"}},\"hatch_alpha\":{\"value\":0.2},\"hatch_color\":{\"field\":\"color\",\"transform\":{\"id\":\"1263\"}},\"line_alpha\":{\"value\":0.2},\"line_color\":{\"field\":\"color\",\"transform\":{\"id\":\"1263\"}},\"size\":{\"field\":\"size\"},\"x\":{\"field\":\"Long\"},\"y\":{\"field\":\"Lat\"}},\"id\":\"1271\",\"type\":\"Scatter\"},{\"attributes\":{},\"id\":\"1221\",\"type\":\"ResetTool\"},{\"attributes\":{},\"id\":\"1245\",\"type\":\"AllLabels\"},{\"attributes\":{\"factors\":[\"Algeria\",\"Angola\",\"Botswana\",\"Benin\",\"Burundi\",\"Chad\",\"Congo (Brazzaville)\",\"DRC\",\"Cameroon\",\"Comoros\",\"none\",\"Cabo Verde\",\"Djibouti\",\"Egypt\",\"Equatorial Guinea\",\"Eritrea\",\"Ethiopia\",\"The Gambia\",\"Gabon\",\"Ghana\",\"Guinea\",\"Cote d'Ivoire\",\"Kenya\",\"Liberia\",\"Lesotho\",\"Libya\",\"Madagascar\",\"Malawi\",\"Mali\",\"Morocco\",\"Mauritius\",\"Mauritania\",\"Mozambique\",\"Niger\",\"Nigeria\",\"South Sudan\",\"Guinea-Bissau\",\"Rwanda\",\"Seychelles\",\"South Africa\",\"Senegal\",\"Sierra Leone\",\"Somalia\",\"Sudan\",\"Togo\",\"Sao Tome and Principe\",\"Tunisia\",\"Tanzania\",\"Uganda\",\"Burkina Faso\",\"Namibia\",\"Eswatini\",\"Zambia\",\"Zimbabwe\",\"Australia\",\"Solomon Islands\",\"Fiji\",\"Kiribati\",\"Vanuatu\",\"Nauru\",\"New Zealand\",\"Tonga\",\"Samoa\",\"Antigua and Barbuda\",\"Barbados\",\"The Bahamas\",\"Belize\",\"Costa Rica\",\"Cuba\",\"Dominica\",\"The Dominican\",\"El Salvador\",\"Grenada\",\"Guatemala\",\"Haiti\",\"Honduras\",\"Jamaica\",\"Nicaragua\",\"Panama\",\"Saint Kitts and Nevis\",\"Saint Lucia\",\"Trinidad and Tobago\",\"Saint Vincent and the Grenadines\",\"Kyrgyzstan\",\"Kazakhstan\",\"Russia\",\"Tajikistan\",\"Turkmenistan\",\"Uzbekistan\",\"Burma\",\"Brunei\",\"Cambodia\",\"China\",\"Indonesia\",\"Japan\",\"South Korea\",\"Laos\",\"Mongolia\",\"Malaysia\",\"Papua New Guinea\",\"Philippines\",\"Singapore\",\"Thailand\",\"Timor-Leste\",\"Vietnam\",\"Albania\",\"Austria\",\"Belgium\",\"Bosnia and Herzegovina\",\"Belarus\",\"Bulgaria\",\"Cyprus\",\"Denmark\",\"Ireland\",\"Estonia\",\"Czechia\",\"Finland\",\"Germany\",\"Greece\",\"Croatia\",\"Hungary\",\"Iceland\",\"Latvia\",\"Lithuania\",\"Slovakia\",\"Luxembourg\",\"Moldova\",\"Montenegro\",\"North Macedonia\",\"Malta\",\"Netherlands\",\"Norway\",\"Poland\",\"Portugal\",\"Serbia\",\"Romania\",\"Slovenia\",\"Spain\",\"Sweden\",\"Switzerland\",\"United Kingdom\",\"Ukraine\",\"Azerbaijan\",\"Armenia\",\"Bahrain\",\"Georgia\",\"Iran\",\"Israel\",\"Iraq\",\"Jordan\",\"Kuwait\",\"Lebanon\",\"Oman\",\"Qatar\",\"Saudi Arabia\",\"Syria\",\"Turkey\",\"Yemen\",\"Canada\",\"Mexico\",\"United States\",\"Argentina\",\"Bolivia\",\"Brazil\",\"Chile\",\"Colombia\",\"Ecuador\",\"Guyana\",\"Suriname\",\"Paraguay\",\"Peru\",\"Uruguay\",\"Venezuela\",\"Afghanistan\",\"Bangladesh\",\"Bhutan\",\"Sri Lanka\",\"India\",\"Maldives\",\"Nepal\",\"Pakistan\"],\"palette\":[\"#1f77b3\",\"#ff7e0e\",\"#2ba02b\",\"#d62628\",\"#9367bc\",\"#8c564b\",\"#e277c1\",\"#7e7e7e\",\"#bcbc21\",\"#16bdcf\",\"#3a0182\",\"#004201\",\"#0fffa8\",\"#5d003f\",\"#bcbcff\",\"#d8afa1\",\"#b80080\",\"#004d52\",\"#6b6400\",\"#7c0100\",\"#6026ff\",\"#ffff9a\",\"#564964\",\"#8cb893\",\"#93fbff\",\"#018267\",\"#90ff00\",\"#8200a0\",\"#ac8944\",\"#5b3400\",\"#ffbff2\",\"#ff6e75\",\"#798cff\",\"#dd00ff\",\"#505646\",\"#004489\",\"#ffbf60\",\"#ff018c\",\"#bdc8cf\",\"#af97b5\",\"#b65600\",\"#017000\",\"#cd87ff\",\"#1cd646\",\"#bfebc3\",\"#7997b5\",\"#a56089\",\"#6e8956\",\"#bc7c75\",\"#8a2844\",\"#00acff\",\"#8ed4ff\",\"#4b6d77\",\"#00d4b1\",\"#9300f2\",\"#8a9500\",\"#5d5b9e\",\"#fddfba\",\"#00939e\",\"#ffdb00\",\"#00aa79\",\"#520067\",\"#000091\",\"#0a5d3d\",\"#a5e275\",\"#623b41\",\"#c6c689\",\"#ff9eb5\",\"#cd4f6b\",\"#ff07d6\",\"#8a3a05\",\"#7e3d70\",\"#ff4901\",\"#602ba5\",\"#1c00ff\",\"#e6dfff\",\"#aa3baf\",\"#d89c00\",\"#a3a39e\",\"#3f69ff\",\"#46490c\",\"#7b6985\",\"#6b978c\",\"#ff9a75\",\"#835bff\",\"#7c6b46\",\"#80b654\",\"#bc0049\",\"#fd93ff\",\"#5d0018\",\"#89d1d1\",\"#9c8cd3\",\"#da6d42\",\"#8a5700\",\"#3b5069\",\"#4b6b3b\",\"#edcfd8\",\"#cfedff\",\"#aa1500\",\"#dfff4f\",\"#ff2a56\",\"#d1499e\",\"#707cb8\",\"#598000\",\"#00e4fd\",\"#774b95\",\"#67d48c\",\"#3d3a72\",\"#ac413f\",\"#d6a166\",\"#c169cd\",\"#69595d\",\"#87aced\",\"#a0a569\",\"#d1aae6\",\"#870062\",\"#00fddb\",\"#672818\",\"#b342ff\",\"#0e59c4\",\"#168742\",\"#90d300\",\"#cd7900\",\"#f959ff\",\"#5b7466\",\"#8eaeb3\",\"#9c7c8c\",\"#4600c6\",\"#6b4d2d\",\"#a56d46\",\"#9e8972\",\"#a8afca\",\"#cd8ca7\",\"#00fd64\",\"#917900\",\"#ff62a1\",\"#f4ffd8\",\"#018cf0\",\"#13aca0\",\"#5b2d59\",\"#89859e\",\"#cfccba\",\"#d4afc4\",\"#dbdd6d\",\"#cffff4\",\"#006485\",\"#006962\",\"#a84167\",\"#2d97c4\",\"#a874ff\",\"#26ba5d\",\"#57b600\",\"#caffa7\",\"#a379aa\",\"#ffbc93\",\"#89e2c1\",\"#0fc8ff\",\"#d400c4\",\"#626d89\",\"#69858e\",\"#4b4d52\",\"#aa6067\",\"#79b5d4\",\"#2b5916\",\"#9a0024\",\"#bdd1f2\",\"#896e67\",\"#69a56b\",\"#855467\",\"#aecdba\",\"#87997e\",\"#cadb00\",\"#9a0390\",\"#ebbc1a\",\"#eb9cd1\",\"#70006e\",\"#b1a131\",\"#ca6b93\",\"#4146a3\",\"#e48c89\",\"#d44400\"]},\"id\":\"1263\",\"type\":\"CategoricalColorMapper\"},{\"attributes\":{\"fill_color\":{\"field\":\"color\",\"transform\":{\"id\":\"1263\"}},\"hatch_color\":{\"field\":\"color\",\"transform\":{\"id\":\"1263\"}},\"line_color\":{\"field\":\"color\",\"transform\":{\"id\":\"1263\"}},\"size\":{\"field\":\"size\"},\"x\":{\"field\":\"Long\"},\"y\":{\"field\":\"Lat\"}},\"id\":\"1269\",\"type\":\"Scatter\"},{\"attributes\":{},\"id\":\"1207\",\"type\":\"LinearScale\"},{\"attributes\":{\"data\":{\"Country\":[\"Algeria\",\"Angola\",\"Botswana\",\"Benin\",\"Burundi\",\"Chad\",\"Congo (Brazzaville)\",\"DRC\",\"Cameroon\",\"Comoros\",\"none\",\"Cabo Verde\",\"Djibouti\",\"Egypt\",\"Equatorial Guinea\",\"Eritrea\",\"Ethiopia\",\"The Gambia\",\"Gabon\",\"Ghana\",\"Guinea\",\"Cote d'Ivoire\",\"Kenya\",\"Liberia\",\"Lesotho\",\"Libya\",\"Madagascar\",\"Malawi\",\"Mali\",\"Morocco\",\"Mauritius\",\"Mauritania\",\"Mozambique\",\"Niger\",\"Nigeria\",\"South Sudan\",\"Guinea-Bissau\",\"Rwanda\",\"Seychelles\",\"South Africa\",\"Senegal\",\"Sierra Leone\",\"Somalia\",\"Sudan\",\"Togo\",\"Sao Tome and Principe\",\"Tunisia\",\"Tanzania\",\"Uganda\",\"Burkina Faso\",\"Namibia\",\"Eswatini\",\"Zambia\",\"Zimbabwe\",\"Australia\",\"Solomon Islands\",\"Fiji\",\"Kiribati\",\"Vanuatu\",\"Nauru\",\"New Zealand\",\"Tonga\",\"Samoa\",\"Antigua and Barbuda\",\"Barbados\",\"The Bahamas\",\"Belize\",\"Costa Rica\",\"Cuba\",\"Dominica\",\"The Dominican\",\"El Salvador\",\"Grenada\",\"Guatemala\",\"Haiti\",\"Honduras\",\"Jamaica\",\"Nicaragua\",\"Panama\",\"Saint Kitts and Nevis\",\"Saint Lucia\",\"Trinidad and Tobago\",\"Saint Vincent and the Grenadines\",\"Kyrgyzstan\",\"Kazakhstan\",\"Russia\",\"Tajikistan\",\"Turkmenistan\",\"Uzbekistan\",\"Burma\",\"Brunei\",\"Cambodia\",\"China\",\"Indonesia\",\"Japan\",\"South Korea\",\"Laos\",\"Mongolia\",\"Malaysia\",\"Papua New Guinea\",\"Philippines\",\"Singapore\",\"Thailand\",\"Timor-Leste\",\"Vietnam\",\"Albania\",\"Austria\",\"Belgium\",\"Bosnia and Herzegovina\",\"Belarus\",\"Bulgaria\",\"Cyprus\",\"Denmark\",\"Ireland\",\"Estonia\",\"Czechia\",\"Finland\",\"Germany\",\"Greece\",\"Croatia\",\"Hungary\",\"Iceland\",\"Latvia\",\"Lithuania\",\"Slovakia\",\"Luxembourg\",\"Moldova\",\"Montenegro\",\"North Macedonia\",\"Malta\",\"Netherlands\",\"Norway\",\"Poland\",\"Portugal\",\"Serbia\",\"Romania\",\"Slovenia\",\"Spain\",\"Sweden\",\"Switzerland\",\"United Kingdom\",\"Ukraine\",\"none\",\"Azerbaijan\",\"Armenia\",\"Bahrain\",\"Georgia\",\"Iran\",\"Israel\",\"Iraq\",\"Jordan\",\"Kuwait\",\"Lebanon\",\"Oman\",\"Qatar\",\"Saudi Arabia\",\"Syria\",\"Turkey\",\"Yemen\",\"Canada\",\"Mexico\",\"United States\",\"Argentina\",\"Bolivia\",\"Brazil\",\"Chile\",\"Colombia\",\"Ecuador\",\"Guyana\",\"Suriname\",\"Paraguay\",\"Peru\",\"Uruguay\",\"Venezuela\",\"Afghanistan\",\"Bangladesh\",\"Bhutan\",\"Sri Lanka\",\"India\",\"Maldives\",\"Nepal\",\"Pakistan\"],\"Lat\":{\"__ndarray__\":\"d0gT5abJSEE5QxKCHQ41waJsD55SKUPBRY6GwM67L0H+8n1dFm8WwcRXvSNwxjlBd0MuSdIt+8AAAAAAAAAAAEHnNB2qayRBSfBNKyO1NMELFapt/NYnQRlwKcSyiTtBl7dvMOFRM0GkqOLfh9RHQXf0BKvhLgtBxFe9I3DGOUG9uoSAL0QrQTFeCM0bwzZBd0MuSdIt+8C9uoSAL0QrQScbSc3qzDJBvbqEgC9EK0ErQy5J0i37QKpkcYIUciVBYhfEgL4LSsE3xupPsPBFQVqIp3aDV0HBydfXdAvMNsF3LVYKOU89QQk/gOygE0lB9ygOVt5+QcFYiKd2g1dBQf/eu0XJWz/BGXApxLKJO0GPSpD5qRIxQb26hIAvRCtB2H+NaKyINEF/9ASr4S4LwVzXOqOGlR3BaTx4BA/BScFIT1SMSAU4QfeM4LvASyxBj0qQ+akSMUHEV70jcMY5Qb26hIAvRCtBK0MuSdIt+0BLX1gDwbxOQUfnNB2qayTBK0MuSdIt+0DV9ZlFFEY2QaJsD55SKUPBDR8vdj4qR8HHV70jcMY5wVqIp3aDV0HBpqji34fUR8HKuoSAL0QrwYfGdIssFz/BWByxOcP8AEEccCnEsok7wYnoDoPNZOHATHp8at0eU8FaiKd2g1dBwQ2a+Gtj4jbB5k4Nf91cPUGE/1lYt3I2QWn613h4JUVBPIrZ7nSTPUGPSpD5qRIxQSd6lUWThUJBDobusAw3OkHYiCH123BAQQqfAXJyJTdB9CA35cunNEGoT71/lk06QdiIIfXbcEBBxFe9I3DGOUH+3rtFyVs/QdX1mUUURjZB1HAhIIqzLkGHUraxNqo9QfG9GyTdMjdBJxtJzerMMkGcPL+eCok2QUl6fGrdHlNBz8FutblLV0FYZHk8bwVgQQgnpeQBA1JBSmHjkeWPUkFJenxq3R5TQaBsD55SKUNBli1EKE8+HUHV9ZlFFEY2QeSycJKUxE9BTH65g/IBIcHGks9X02dQQUVQYrIQ71BBgcZ0iywXP0EYrhhO3wxWQeBK6vU8Qw9BR+c0HaprJMHV9ZlFFEY2QR/F8lZglABBxFe9I3DGOUGBxdNpk/sswZKxNTvytjtBSXp8at0eU0Hcetsev8pWQep0V2Qy7FhBW4+7i1jZVEGSqud6VaNaQcdaNPZ4Q1RB5LJwkpTET0FxPv3pQ9VcQZKq53pVo1pBwSmzuKg0X0GgkjIzszpYQYyckoVQ1WFB+19BbhtCWUEIJ6XkAQNSQT/G64wngVVBFraihM6qVkFkYFFwllNiQXfVEKs9ml1BcT796UPVXEHs9ewc94xXQaCSMjOzOlhBFraihM6qVkFZ0IUdAtxTQZTsjWkpZ1NBbvGXndkkUEFjqTksrSdaQfQ7ntnA5WBBcdgUXb/wWUFKRZjjDy1SQVuPu4tY2VRBGK4YTt8MVkH4a+931RdWQUph45Hlj1JB9Due2cDlYEEWtqKEzqpWQSjl0BIbWltBXWc3WcvvV0Hyq/8NwAFFQXyUjG2QulJBSmHjkeWPUkFhpcN4lOFGQchPa9wEsFNBpkZGUDe2TEE+L3K5bQNMQbt9UPsDuE1BwGtakja3S0FeF8SAvgtKQR9D1RsCOk5BYsJBS6M/QkHnGKYLvzhGQTfG6k+w8EVB5LJwkpTET0EIJ6XkAQNSQcRXvSNwxjlBWGR5PG8FYEGSbpxRqRREQU0QBnQYeFFBUF9YA8G8TsF8LVYKOU89wZFKkPmpEjHBi/P36966SsFgq0lwIDMbQX/0BKvhLgvBPn65g/IBIUFgq0lwIDMbQZVunFGpFETBkUqQ+akSMcG8fVD7A7hNwb26hIAvRCtBu31Q+wO4TUHyq/8NwAFFQdjQfIXVHUhBCxWqbfzWJ0FYiKd2g1dBQRbO37TEaRVBd0gT5abJSEGK8/fr3rpKQQ==\",\"dtype\":\"float64\",\"order\":\"little\",\"shape\":[182]},\"Long\":{\"__ndarray__\":\"JYm34xliFEFY5HeumhU/QSWJt+MZYkRBtGbcPUc3DUFua6VcoHpJQT73myn/IkBBbmulXKB6OUGG2YmihTtFQSWJt+MZYjRBNnsv4ZC/UkEBmECn1tVBQSWJt+MZYkTBMcCphoxCUkFua6VcoHpJQZ9Hbuhq/DBBbh8FCbWPUEE+95sp/yJQQcaUxHpQwTvBU8ppK/ByM0ExDErady0LwZ9Hbuhq/DDBn0du6Gr8IME+95sp/yJQQfp6XIcOmC/B/BVzywIJSEH1rO5XT+A8QfRgTgRk9VNB9azuV0/gTEExDErady0bwZ9Hbuhq/DDB4TUPml5YWEElibfjGWI0wVX9wBa7uU1BMQxK2nctK0ExDErady0rQW5rpVygeklBbmulXKB6OcFua6VcoHpJQVt/jvKOhldBJYm34xliREGrygDfyMc3wQR/9z62MTPBVrEgw8/OVEFua6VcoHpJQTfatwk35f1Aq8oA38jHJ0G3TZPVJpMuQVX9wBa7uU1BMQxK2nctS0ExDErady0LwfWs7ldP4DxBIAfqB0aVSkFua6VcoHpJQW5rpVygeklBq/DQiD49bEGT/ZNwPeFwQVaeOO4UlHJBPQqE/rldckH0TWYvqbpxQdbfEFNurnFBSVRedud4ckFWnjjuFJRywc2bCAX8R3LBeGnQkoQbWsEkJ2gMtDBZwT73myn/ImDBoMS9HrjHYsEBmECn1tVhwZ9Hbuhq/GDBEAKKNRT9WcE32rcJN+VdwTygHJ0nzWLBf3AFL9ISWsH9WQqDHyRjwcOXbU1Url7BBVPGAdtSYsEqHm2UqGlgwRks9ZYxDGLBn0du6Gr8YMFNdM2M94RawYD4JLCtuVnBn5MOPFbnWcEWCb/RYfRZwUrGznNI2V9B9azuV0/gXEGG2YmihTtlQYYlKvZwJl5BbmulXKB6WUExDErady1bQVaxIMPPzmRBTGHltzxKaEEBvhBRTEtmQQG+EFFMS2ZBbmulXKB6aUEk1Vc3BU1tQe0KsmVrB2tBAb4QUUxLZkEBvhBRTEtmQX9dHVoX2GdBAAqxpDc2b0Gfkw48VudpQb2ACJ2t+GVBhtmJooU7ZUHCBzZCTKhqQT4wVKgv02ZBn0du6Gr8QEGo40lH6Ws2QTEMStp3LRtBt02T1SaTPkGrygDfyMdHQYbZiaKFO0VBk1wcmeMGTEGfR27oavwwQTEMStp3LSvB6ClcYfEURkEQAoo1FP05QegpXGHxFEZBt02T1SaTLkFi6BJmQq9CQRACijUU/TlBn0du6Gr8QEG3TZPVJpM+wYbZiaKFO0VBJYm34xliREGOQg4WOWRAQeVCpckRuSRBDRvTnTShSEGhV63qIUpAQWLoEmZCr0JBvc9gsfpfOEF7BOfWeIwiQZ9Hbuhq/DBBn0du6Gr8QEExDErady0rwQGYQKfW1UFBhtmJooU7RUGRnu1r25w4QTEMStp3LRvBbmulXKB6OUExDErady0rQTEMStp3LQvBMQxK2nctS0FJei4gXe5WQZyGh/oAFlRBkxB8RfgbU0GMHC9+ZV9VQdnl4nwpY1JBGVLFQKeBVkHtHZo6JkJNQWLoEmZCr1JBt02T1SaTTkEPydG240xTQYYlKvZwJk5B3PJpvn40WEGLlA/9ibhVQZMQfEX4G1NBPvebKf8iUEFV/cAWu7lNQSWJt+MZYlRBDfUC9L4rZMG3AfOBO6hlwT0dbNN0mGTBMQxK2nctW8FiNLO5LZpbwXqil/8SW1fBhiUq9nAmXsG3TZPVJpNewSoebZSoaWDBPkM8feoNWcGrygDfyMdXwQ0b0500oVjBPvebKf8iYMGrygDfyMdXwZNcHJnjBlzBYjSzuS2aW0GTEHxF+BtjQWajmMBGLGNBt9si2MUyYUFWi1AZWllgQeh1/LTc/15BAZhAp9bVYUFV/cAWu7ldQQ==\",\"dtype\":\"float64\",\"order\":\"little\",\"shape\":[182]},\"color\":[\"Algeria\",\"Angola\",\"Botswana\",\"Benin\",\"Burundi\",\"Chad\",\"Congo (Brazzaville)\",\"DRC\",\"Cameroon\",\"Comoros\",\"none\",\"Cabo Verde\",\"Djibouti\",\"Egypt\",\"Equatorial Guinea\",\"Eritrea\",\"Ethiopia\",\"The Gambia\",\"Gabon\",\"Ghana\",\"Guinea\",\"Cote d'Ivoire\",\"Kenya\",\"Liberia\",\"Lesotho\",\"Libya\",\"Madagascar\",\"Malawi\",\"Mali\",\"Morocco\",\"Mauritius\",\"Mauritania\",\"Mozambique\",\"Niger\",\"Nigeria\",\"South Sudan\",\"Guinea-Bissau\",\"Rwanda\",\"Seychelles\",\"South Africa\",\"Senegal\",\"Sierra Leone\",\"Somalia\",\"Sudan\",\"Togo\",\"Sao Tome and Principe\",\"Tunisia\",\"Tanzania\",\"Uganda\",\"Burkina Faso\",\"Namibia\",\"Eswatini\",\"Zambia\",\"Zimbabwe\",\"Australia\",\"Solomon Islands\",\"Fiji\",\"Kiribati\",\"Vanuatu\",\"Nauru\",\"New Zealand\",\"Tonga\",\"Samoa\",\"Antigua and Barbuda\",\"Barbados\",\"The Bahamas\",\"Belize\",\"Costa Rica\",\"Cuba\",\"Dominica\",\"The Dominican\",\"El Salvador\",\"Grenada\",\"Guatemala\",\"Haiti\",\"Honduras\",\"Jamaica\",\"Nicaragua\",\"Panama\",\"Saint Kitts and Nevis\",\"Saint Lucia\",\"Trinidad and Tobago\",\"Saint Vincent and the Grenadines\",\"Kyrgyzstan\",\"Kazakhstan\",\"Russia\",\"Tajikistan\",\"Turkmenistan\",\"Uzbekistan\",\"Burma\",\"Brunei\",\"Cambodia\",\"China\",\"Indonesia\",\"Japan\",\"South Korea\",\"Laos\",\"Mongolia\",\"Malaysia\",\"Papua New Guinea\",\"Philippines\",\"Singapore\",\"Thailand\",\"Timor-Leste\",\"Vietnam\",\"Albania\",\"Austria\",\"Belgium\",\"Bosnia and Herzegovina\",\"Belarus\",\"Bulgaria\",\"Cyprus\",\"Denmark\",\"Ireland\",\"Estonia\",\"Czechia\",\"Finland\",\"Germany\",\"Greece\",\"Croatia\",\"Hungary\",\"Iceland\",\"Latvia\",\"Lithuania\",\"Slovakia\",\"Luxembourg\",\"Moldova\",\"Montenegro\",\"North Macedonia\",\"Malta\",\"Netherlands\",\"Norway\",\"Poland\",\"Portugal\",\"Serbia\",\"Romania\",\"Slovenia\",\"Spain\",\"Sweden\",\"Switzerland\",\"United Kingdom\",\"Ukraine\",\"none\",\"Azerbaijan\",\"Armenia\",\"Bahrain\",\"Georgia\",\"Iran\",\"Israel\",\"Iraq\",\"Jordan\",\"Kuwait\",\"Lebanon\",\"Oman\",\"Qatar\",\"Saudi Arabia\",\"Syria\",\"Turkey\",\"Yemen\",\"Canada\",\"Mexico\",\"United States\",\"Argentina\",\"Bolivia\",\"Brazil\",\"Chile\",\"Colombia\",\"Ecuador\",\"Guyana\",\"Suriname\",\"Paraguay\",\"Peru\",\"Uruguay\",\"Venezuela\",\"Afghanistan\",\"Bangladesh\",\"Bhutan\",\"Sri Lanka\",\"India\",\"Maldives\",\"Nepal\",\"Pakistan\"],\"composite_index\":{\"__ndarray__\":\"MDMzMzMzEkBmZmZmZuZBQEAzMzMzM+M/mJmZmZkZLEDNzMzMzKxAQKCZmZmZmfk/zszMzMwMPEA0MzMzMzNKQJqZmZmZ+UBAAAAAAAAAAAAzMzMzM9NIQM3MzMzMzCNAwMzMzMzM7D/MzMzMzMwnQDAzMzMzMxVA0MzMzMzMCEAAAAAAAABJQICZmZmZmeE/MzMzMzOzPUCamZmZmRkyQDMzMzMzs0RAaWZmZmZmK0DNzMzMzOxIQAAAAAAAwD1AAAAAAAAASUAAAAAAAAAAAJqZmZmZGTRAzczMzMwMRkDMzMzMzEwwQGlmZmZmZipAmJmZmZmZKEBmZmZmZmYxQJqZmZmZWURA0MzMzMzME0BpZmZmZuYlQICZmZmZmdk/QDMzMzMz8z8AAAAAAIA+QADNzMzMzNw/zMzMzMwMNEBpZmZmZmYeQDMzMzMz80ZA0MzMzMzMAkAAAAAAAEA8QMzMzMzMzCNAAAAAAAAAFUAwMzMzMzMQQAAAAAAAgDFAzczMzMwsSkCYmZmZmZkmQJqZmZmZmUhAMzMzMzPzO0AAAAAAAMBFQGZmZmZmxkRAzMzMzMysQEDQzMzMzMwEQM3MzMzMzD9AMDMzMzMzHkAAAAAAAEA6QAAAAAAAAAAAAAAAAAAgREAAAAAAAAAAAGZmZmZmpj9AYGZmZmZmAkAwMzMzMzMaQP6ZmZmZmbk/MzMzMzMzMkBmZmZmZkZJQAAAAAAAABxANDMzMzMzKUCWmZmZmZkdQDMzMzMz80FAQDMzMzMz6z/NzMzMzEw+QGlmZmZmZhxAZmZmZmamOkAAAAAAAAAZQJqZmZmZGT9AAAAAAADgQkCgmZmZmZn9PwDNzMzMzNw//5eZmZmZqT8AAAAAAIAqQAAAAAAA4EZAZGZmZmZmHUDNzMzMzIw2QDMzMzMz00ZAAAAAAAAAAADQzMzMzMwXQDMzMzMzszdAAAAAAAAAAAAAAAAAAAA4QAAAAAAAADFANDMzMzOzKEBmZmZmZmYvQM3MzMzMTEdAmpmZmZmZQkCXmZmZmZkVQAAAAAAAAC5AzczMzMzMJUA0MzMzMzM5QAAAAAAAIEBAZ2ZmZmbmMUAAAAAAAAAAAGZmZmZmJjpAAAAAAAAASUAzMzMzMxNLQM3MzMzMTElAmpmZmZmZMkA0MzMzMzMkQAAAAAAAoERAAgAAAACAKkAAAAAAACBMQM3MzMzMzEJAmpmZmZk5QUAAAAAAAKBDQMzMzMzMrExAMzMzMzPTSkAAAAAAAEA/QDMzMzMz00JAMzMzMzNzRkCamZmZmXlTQDMzMzMz80VAmpmZmZk5RUCZmZmZmflFQGZmZmZmpkxANTMzMzOzJUDNzMzMzIw/QMvMzMzMzCxAMzMzMzMzIkBnZmZmZiY8QAAAAAAAQE9AzczMzMxMN0DNzMzMzExDQJqZmZmZmS9AZ2ZmZmZmQkDMzMzMzMxNQJmZmZmZGUVAzczMzMxsUEBmZmZmZmZQQAAAAAAAYEZAZmZmZmZmQEDMzMzMzEwoQDAzMzMzMwdAMzMzMzOzPUAAAAAAAAAQQM3MzMzMrEJAzMzMzMxMIEDMzMzMzEwvQKCZmZmZmfE/AAAAAACAJ0D/l5mZmZmpP2hmZmZmZhtAAAAAAAAAAAAAAAAAAAD4PzAzMzMzMx5AoJmZmZmZDUBmZmZmZuY1QGhmZmZmZidAZmZmZmYGSkDNzMzMzEwtQM3MzMzMrEJAmpmZmZkZNECZmZmZmdk3QGdmZmZmZkZAAAAAAABAOEAzMzMzMxNFQJqZmZmZ+UZAwMzMzMzM+D8AAAAAAMA9QAAAAAAAAElAAAAAAABgQEAAAAAAAIBKQAAAAAAAYEFAZmZmZmYGRUCAZmZmZmbmP5qZmZmZOUlAZmZmZmZmOEAAAAAAAIAtQACamZmZmck/AAAAAAAASUBmZmZmZmY6QA==\",\"dtype\":\"float64\",\"order\":\"little\",\"shape\":[182]},\"size\":{\"__ndarray__\":\"U1VmhogQAUDEQCjZ6O4XQFByP/R+yeg/COYN/pX8DUDFpCZqixkXQBFJSGITPfQ/nnD8n1UvFUB9Fbrng/QcQA0V9rSAThdAAAAAAAAAAADMPsDfYi8cQHGCH67hKwlAkG1sE51b7j/NQW+h25gLQBYAT57ZagJAmvpLj8Ar/D/ACh8AxkgcQJy0iIxZu+c/RuqIrJDMFUDpFwLrgwQRQDc8p7q0vBlA9l/M912cDUBio3p05z0cQMWt27ZC0RVAwAofAMZIHEAAAAAAAAAAADAO98/m7hFA5N/+cCmQGkAYlzu/OCYQQArjC+bAEA1AowLJGZ0ODEC7Ay9Sca8QQPj+tFLEhBlAg4dmKYPMAUDF0YMb/ngKQAVJSGITPeQ/eIT4dPGG8T9IqiqPORcWQHbyT1Rcd+U/0jlfHzDpEUAktzpF8g0GQBeDKYKNGRtAJQbRkQyH+D820NJ4okIVQHCCH67hKwlAhR4VuY5UAkDJ9Ts/hRkAQNuvrAezuxBAbw//V/rwHECJRy3kcuQKQKQCyRmdDhxA3KuSmKglFUCXyf5svmEaQLlyHJmhyBlAxaQmaosZF0CCxAL/mcz5P+wtuQp9jhZAOBuO8Vf7BUCJCa9UcH4UQAAAAAAAAAAAS/tBPI1gGUAAAAAAAAAAAB1T6W/agBZAreWFPeRD+D9RXuCWcHkEQDdJSGITPdQ/VVVmhogQEUBpaFggfXAcQOr40ql/KgVAA+lKyK1lDEAkC9SNKcMFQGeakPJ19xdAMeQZnKaA7T97Y1gSpwQWQF8swaMQUQVAM08mskKmFEAAAAAAAAAEQOKHkT+UThZAwcl7s4+TGEAoC9SNKcP1P3byT1Rcd+U/9Oy/xSWfzD/p+3Yg1R4NQPU4myY1DhtA/oO3FU+wBUCpM6EGp/4SQJaKOkSiBhtAAAAAAAAAAADpDEXkm4MDQGaneFkaeRNAAAAAAAAAAAAuIQkUjpgTQAftr2YPfhBA25zzmjIdDEBZ820q1rIPQIcJJ9pAThtAwi1wg49lGEC1lS83H5cCQNpOT7He+w5ALSful4BpCkA6BpxvcBQUQEjG2L8ztxZAG9XPGWHsEEAAAAAAAAAAAC6lT6BvdBRAwAofAMZIHEC1VwvCRm8dQFTwZKkWdBxAcKOHO0dAEUCKfGhUpWwJQM7CFVPCsBlA6vt2INUeDUAAAAAAAAAeQCMG0ZEMhxhApyWHM0d6F0DkEORzVw8ZQEdhVtG6Sh5A98ARJWhMHUDS8X2CVVwWQK5bJP04ixhAIMRAa5DNGkANyvBF9qYhQJHIJni5gBpANhweObwPGkAYIwxOloQaQJiSgDxZRx5AQ7xJ+flZCkC7rSrFvncWQJVtbBOdWw5AOP2h/gkiCEAgwhA+/jgVQCfykElunx9ALc8TBNtOE0A6F2/K/9kYQFXL/JSjzA9AsuWFPeRDGEA221HYYuEeQKs/k3QP/BlAFb3TIAs2IEBxYcxJ4jIgQGY75dcXwhpAks2aWpToFkCQYMfSruILQNkpdJU8P/s/RuqIrJDMFUAAAAAAAAAAQHM6HckjchhAlblOH6zWBkDKt6aR56UPQPlWasnrx/A/5pM1uDBsC0D07L/FJZ/MP8qeGwMh8ARAAAAAAAAAAAAuIQkUjpjzPzgbjvFX+wVArGcxNdDG/j/KxqWzDrgSQLUWPOE8XQtAtdqa3rfbHEATeKcDyZ4OQHM6HckjchhAMA73z+buEUBGPT2L2ogTQPiyej/rxRpAYlZjfZ2yE0CffyZQHvgZQDhfoZJUHRtAwfOSl3rr8z/Frdu2QtEVQMAKHwDGSBxAdTv7mxvkFkDp+3Yg1R4dQGzF6xZklBdAje81OzrwGUAHs3o/68XqP1bU969IaRxAsbei1i/CE0DbnltFfrkOQBLuv8Uln9w/wAofAMZIHEALz3dCaI0UQA==\",\"dtype\":\"float64\",\"order\":\"little\",\"shape\":[182]}},\"selected\":{\"id\":\"1265\"},\"selection_policy\":{\"id\":\"1277\"}},\"id\":\"1264\",\"type\":\"ColumnDataSource\"},{\"attributes\":{},\"id\":\"1277\",\"type\":\"UnionRenderers\"},{\"attributes\":{\"end\":13012515.792717645,\"min_interval\":5,\"reset_end\":13012515.792717645,\"reset_start\":-8416486.062536085,\"start\":-8416486.062536085,\"tags\":[[[\"Lat\",\"Lat\",null]]]},\"id\":\"1194\",\"type\":\"Range1d\"},{\"attributes\":{\"fill_color\":{\"field\":\"color\",\"transform\":{\"id\":\"1263\"}},\"hatch_color\":{\"field\":\"color\",\"transform\":{\"id\":\"1263\"}},\"line_color\":{\"field\":\"color\",\"transform\":{\"id\":\"1263\"}},\"size\":{\"field\":\"size\"},\"x\":{\"field\":\"Long\"},\"y\":{\"field\":\"Lat\"}},\"id\":\"1270\",\"type\":\"Scatter\"},{\"attributes\":{\"below\":[{\"id\":\"1209\"}],\"center\":[{\"id\":\"1212\"},{\"id\":\"1216\"}],\"frame_height\":450,\"frame_width\":900,\"height\":null,\"left\":[{\"id\":\"1213\"}],\"margin\":[5,5,5,5],\"match_aspect\":true,\"min_border_bottom\":10,\"min_border_left\":10,\"min_border_right\":10,\"min_border_top\":10,\"renderers\":[{\"id\":\"1261\"},{\"id\":\"1272\"}],\"right\":[{\"id\":\"1280\"}],\"sizing_mode\":\"fixed\",\"title\":{\"id\":\"1201\"},\"toolbar\":{\"id\":\"1223\"},\"width\":null,\"x_range\":{\"id\":\"1193\"},\"x_scale\":{\"id\":\"1205\"},\"y_range\":{\"id\":\"1194\"},\"y_scale\":{\"id\":\"1207\"}},\"id\":\"1200\",\"subtype\":\"Figure\",\"type\":\"Plot\"}],\"root_ids\":[\"1187\"]},\"title\":\"Bokeh Application\",\"version\":\"2.4.2\"}};\n",
       "    var render_items = [{\"docid\":\"3b1e7ab2-fb10-42fe-bb3e-6cae05abbef8\",\"root_ids\":[\"1187\"],\"roots\":{\"1187\":\"111e5f0a-8fe0-4d18-8858-538640b99d73\"}}];\n",
       "    root.Bokeh.embed.embed_items_notebook(docs_json, render_items);\n",
       "  }\n",
       "  if (root.Bokeh !== undefined && root.Bokeh.Panel !== undefined) {\n",
       "    embed_document(root);\n",
       "  } else {\n",
       "    var attempts = 0;\n",
       "    var timer = setInterval(function(root) {\n",
       "      if (root.Bokeh !== undefined && root.Bokeh.Panel !== undefined) {\n",
       "        clearInterval(timer);\n",
       "        embed_document(root);\n",
       "      } else if (document.readyState == \"complete\") {\n",
       "        attempts++;\n",
       "        if (attempts > 200) {\n",
       "          clearInterval(timer);\n",
       "          console.log(\"Bokeh: ERROR: Unable to run BokehJS code because BokehJS library is missing\");\n",
       "        }\n",
       "      }\n",
       "    }, 25, root)\n",
       "  }\n",
       "})(window);</script>"
      ],
      "text/plain": [
       ":Overlay\n",
       "   .Tiles.I  :Tiles   [x,y]\n",
       "   .Points.I :Points   [Long,Lat]   (Country,composite_index)"
      ]
     },
     "execution_count": 45,
     "metadata": {
      "application/vnd.holoviews_exec.v0+json": {
       "id": "1187"
      }
     },
     "output_type": "execute_result"
    }
   ],
   "source": [
    "%%capture --no-display\n",
    "\n",
    "#map of greeness index\n",
    "\n",
    "# make a map of countries and Greenness\n",
    "map_plot = country_data_df.hvplot.points(\n",
    "\"Long\",\"Lat\",\n",
    "geo = True,tiles = \"OSM\",frame_width =900, frame_height = 450, size='composite_index', color = \"Country\")\n",
    "\n",
    "# Display the map\n",
    "map_plot"
   ]
  }
 ],
 "metadata": {
  "kernelspec": {
   "display_name": "Python 3 (ipykernel)",
   "language": "python",
   "name": "python3"
  },
  "language_info": {
   "codemirror_mode": {
    "name": "ipython",
    "version": 3
   },
   "file_extension": ".py",
   "mimetype": "text/x-python",
   "name": "python",
   "nbconvert_exporter": "python",
   "pygments_lexer": "ipython3",
   "version": "3.9.12"
  }
 },
 "nbformat": 4,
 "nbformat_minor": 5
}
